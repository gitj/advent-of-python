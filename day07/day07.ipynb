{
 "cells": [
  {
   "cell_type": "markdown",
   "id": "0dddda95",
   "metadata": {},
   "source": [
    "# Introduction\n",
    "State notebook purpose here"
   ]
  },
  {
   "cell_type": "markdown",
   "id": "3f743c76",
   "metadata": {},
   "source": [
    "### Imports\n",
    "Import libraries and write settings here."
   ]
  },
  {
   "cell_type": "code",
   "execution_count": 7,
   "id": "93cca329",
   "metadata": {},
   "outputs": [],
   "source": [
    "%matplotlib inline\n",
    "from matplotlib import pyplot as plt\n",
    "# Data manipulation\n",
    "import pandas as pd\n",
    "import numpy as np\n",
    "from tqdm.autonotebook import tqdm\n",
    "\n",
    "from IPython import get_ipython\n",
    "ipython = get_ipython()\n",
    "\n",
    "# Options for pandas\n",
    "pd.options.display.max_columns = 50\n",
    "pd.options.display.max_rows = 30\n",
    "\n",
    "# autoreload extension\n",
    "if 'autoreload' not in ipython.extension_manager.loaded:\n",
    "    %load_ext autoreload\n",
    "\n",
    "%autoreload 2\n",
    "\n",
    "# Visualizations\n",
    "#import plotly.plotly as py\n",
    "#import plotly.graph_objs as go\n",
    "#from plotly.offline import iplot, init_notebook_mode\n",
    "#init_notebook_mode(connected=True)\n",
    "\n",
    "#import cufflinks as cf\n",
    "#cf.go_offline(connected=True)\n",
    "#cf.set_config_file(theme='white')\n"
   ]
  },
  {
   "cell_type": "markdown",
   "id": "db029992",
   "metadata": {},
   "source": [
    "# Analysis/Modeling\n",
    "Do work here"
   ]
  },
  {
   "cell_type": "markdown",
   "id": "52d7a09d",
   "metadata": {},
   "source": [
    "# Results\n",
    "Show graphs and stats here"
   ]
  },
  {
   "cell_type": "markdown",
   "id": "654698d3",
   "metadata": {},
   "source": [
    "# Conclusions and Next Steps\n",
    "Summarize findings here"
   ]
  },
  {
   "cell_type": "code",
   "execution_count": 2,
   "id": "83d36257",
   "metadata": {},
   "outputs": [],
   "source": [
    "data = np.array([16,1,2,0,4,2,7,1,2,14])"
   ]
  },
  {
   "cell_type": "code",
   "execution_count": 3,
   "id": "f8e295f1",
   "metadata": {},
   "outputs": [
    {
     "data": {
      "text/plain": [
       "4.9"
      ]
     },
     "execution_count": 3,
     "metadata": {},
     "output_type": "execute_result"
    }
   ],
   "source": [
    "data.mean()"
   ]
  },
  {
   "cell_type": "code",
   "execution_count": 4,
   "id": "743394b4",
   "metadata": {},
   "outputs": [],
   "source": [
    "costs = data[:,None]-np.arange(data.max())[None,:]"
   ]
  },
  {
   "cell_type": "code",
   "execution_count": 8,
   "id": "bd78bcca",
   "metadata": {},
   "outputs": [
    {
     "data": {
      "text/plain": [
       "[<matplotlib.lines.Line2D at 0x7f3bc9b6c2e0>]"
      ]
     },
     "execution_count": 8,
     "metadata": {},
     "output_type": "execute_result"
    },
    {
     "data": {
      "image/png": "[encoded data removed]",
      "text/plain": [
       "<Figure size 432x288 with 1 Axes>"
      ]
     },
     "metadata": {
      "needs_background": "light"
     },
     "output_type": "display_data"
    }
   ],
   "source": [
    "plt.plot(np.abs(costs).sum(0))"
   ]
  },
  {
   "cell_type": "code",
   "execution_count": 9,
   "id": "0ab37b45",
   "metadata": {},
   "outputs": [],
   "source": [
    "data = np.genfromtxt('input.txt',delimiter=',')"
   ]
  },
  {
   "cell_type": "code",
   "execution_count": 10,
   "id": "20f84bb1",
   "metadata": {},
   "outputs": [
    {
     "data": {
      "text/plain": [
       "(1000,)"
      ]
     },
     "execution_count": 10,
     "metadata": {},
     "output_type": "execute_result"
    }
   ],
   "source": [
    "data.shape"
   ]
  },
  {
   "cell_type": "code",
   "execution_count": 11,
   "id": "bc1f2f77",
   "metadata": {},
   "outputs": [],
   "source": [
    "costs = data[:,None]-np.arange(data.max())[None,:]"
   ]
  },
  {
   "cell_type": "code",
   "execution_count": 12,
   "id": "caaaf1e1",
   "metadata": {},
   "outputs": [
    {
     "data": {
      "text/plain": [
       "[<matplotlib.lines.Line2D at 0x7f3bc8745eb0>]"
      ]
     },
     "execution_count": 12,
     "metadata": {},
     "output_type": "execute_result"
    },
    {
     "data": {
      "image/png": "[encoded data removed]",
      "text/plain": [
       "<Figure size 432x288 with 1 Axes>"
      ]
     },
     "metadata": {
      "needs_background": "light"
     },
     "output_type": "display_data"
    }
   ],
   "source": [
    "plt.plot(np.abs(costs).sum(0))"
   ]
  },
  {
   "cell_type": "code",
   "execution_count": 14,
   "id": "2bb8768e",
   "metadata": {},
   "outputs": [
    {
     "data": {
      "text/plain": [
       "352331.0"
      ]
     },
     "execution_count": 14,
     "metadata": {},
     "output_type": "execute_result"
    }
   ],
   "source": [
    "np.abs(costs).sum(0).min()"
   ]
  },
  {
   "cell_type": "code",
   "execution_count": null,
   "id": "549f8ccc",
   "metadata": {},
   "outputs": [],
   "source": []
  },
  {
   "cell_type": "code",
   "execution_count": 58,
   "id": "85c8c2dc",
   "metadata": {},
   "outputs": [],
   "source": [
    "#data = np.array([16,1,2,0,4,2,7,1,2,14])\n",
    "data = np.genfromtxt('input.txt',delimiter=',')"
   ]
  },
  {
   "cell_type": "code",
   "execution_count": 59,
   "id": "cd955637",
   "metadata": {},
   "outputs": [],
   "source": [
    "num_moves = np.abs(data[:,None]-np.arange(data.max())[None,:])"
   ]
  },
  {
   "cell_type": "code",
   "execution_count": 60,
   "id": "a5ce4dcf",
   "metadata": {},
   "outputs": [],
   "source": [
    "costs = num_moves*(num_moves+1)/2 # at first I was trying to do a bunch of stuff with np.cumsum, which was silly"
   ]
  },
  {
   "cell_type": "code",
   "execution_count": 63,
   "id": "6a771c4b",
   "metadata": {},
   "outputs": [],
   "source": [
    "#np.abs(num_moves[:,1])"
   ]
  },
  {
   "cell_type": "code",
   "execution_count": 64,
   "id": "fba27dbc",
   "metadata": {},
   "outputs": [],
   "source": [
    "#costs[:,5]"
   ]
  },
  {
   "cell_type": "code",
   "execution_count": 65,
   "id": "5b14643e",
   "metadata": {},
   "outputs": [
    {
     "data": {
      "text/plain": [
       "<matplotlib.collections.QuadMesh at 0x7f3bc81fe460>"
      ]
     },
     "execution_count": 65,
     "metadata": {},
     "output_type": "execute_result"
    },
    {
     "data": {
      "image/png": "[encoded data removed]",
      "text/plain": [
       "<Figure size 432x288 with 1 Axes>"
      ]
     },
     "metadata": {
      "needs_background": "light"
     },
     "output_type": "display_data"
    }
   ],
   "source": [
    "plt.pcolormesh(costs)"
   ]
  },
  {
   "cell_type": "code",
   "execution_count": 66,
   "id": "781f5e9a",
   "metadata": {},
   "outputs": [
    {
     "data": {
      "text/plain": [
       "[<matplotlib.lines.Line2D at 0x7f3bc8183730>]"
      ]
     },
     "execution_count": 66,
     "metadata": {},
     "output_type": "execute_result"
    },
    {
     "data": {
      "image/png": "[encoded data removed]",
      "text/plain": [
       "<Figure size 432x288 with 1 Axes>"
      ]
     },
     "metadata": {
      "needs_background": "light"
     },
     "output_type": "display_data"
    }
   ],
   "source": [
    "plt.plot(np.abs(costs).sum(0))"
   ]
  },
  {
   "cell_type": "code",
   "execution_count": 67,
   "id": "4816c640",
   "metadata": {},
   "outputs": [
    {
     "data": {
      "text/plain": [
       "99266250.0"
      ]
     },
     "execution_count": 67,
     "metadata": {},
     "output_type": "execute_result"
    }
   ],
   "source": [
    "np.abs(costs).sum(0).min()"
   ]
  },
  {
   "cell_type": "code",
   "execution_count": null,
   "id": "25aae586",
   "metadata": {},
   "outputs": [],
   "source": []
  }
 ],
 "metadata": {
  "kernelspec": {
   "display_name": "Python 3 (ipykernel)",
   "language": "python",
   "name": "python3"
  },
  "language_info": {
   "codemirror_mode": {
    "name": "ipython",
    "version": 3
   },
   "file_extension": ".py",
   "mimetype": "text/x-python",
   "name": "python",
   "nbconvert_exporter": "python",
   "pygments_lexer": "ipython3",
   "version": "3.9.7"
  }
 },
 "nbformat": 4,
 "nbformat_minor": 5
}
