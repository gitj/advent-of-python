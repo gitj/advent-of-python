{
 "cells": [
  {
   "cell_type": "markdown",
   "id": "13df58fa",
   "metadata": {},
   "source": [
    "# Introduction\n",
    "State notebook purpose here"
   ]
  },
  {
   "cell_type": "markdown",
   "id": "ef3fc81c",
   "metadata": {},
   "source": [
    "### Imports\n",
    "Import libraries and write settings here."
   ]
  },
  {
   "cell_type": "code",
   "execution_count": 1,
   "id": "1077ac15",
   "metadata": {},
   "outputs": [
    {
     "name": "stderr",
     "output_type": "stream",
     "text": [
      "/tmp/ipykernel_121499/2426357776.py:4: TqdmExperimentalWarning: Using `tqdm.autonotebook.tqdm` in notebook mode. Use `tqdm.tqdm` instead to force console mode (e.g. in jupyter console)\n",
      "  from tqdm.autonotebook import tqdm\n"
     ]
    }
   ],
   "source": [
    "# Data manipulation\n",
    "import pandas as pd\n",
    "import numpy as np\n",
    "from tqdm.autonotebook import tqdm\n",
    "\n",
    "from IPython import get_ipython\n",
    "ipython = get_ipython()\n",
    "\n",
    "# Options for pandas\n",
    "pd.options.display.max_columns = 50\n",
    "pd.options.display.max_rows = 30\n",
    "\n",
    "# autoreload extension\n",
    "if 'autoreload' not in ipython.extension_manager.loaded:\n",
    "    %load_ext autoreload\n",
    "\n",
    "%autoreload 2\n",
    "\n",
    "# Visualizations\n",
    "#import plotly.plotly as py\n",
    "#import plotly.graph_objs as go\n",
    "#from plotly.offline import iplot, init_notebook_mode\n",
    "#init_notebook_mode(connected=True)\n",
    "\n",
    "#import cufflinks as cf\n",
    "#cf.go_offline(connected=True)\n",
    "#cf.set_config_file(theme='white')\n"
   ]
  },
  {
   "cell_type": "markdown",
   "id": "c6df347d",
   "metadata": {},
   "source": [
    "# Analysis/Modeling\n",
    "Do work here"
   ]
  },
  {
   "cell_type": "markdown",
   "id": "37e14638",
   "metadata": {},
   "source": [
    "# Results\n",
    "Show graphs and stats here"
   ]
  },
  {
   "cell_type": "markdown",
   "id": "a66b4205",
   "metadata": {},
   "source": [
    "# Conclusions and Next Steps\n",
    "Summarize findings here"
   ]
  },
  {
   "cell_type": "code",
   "execution_count": 5,
   "id": "dd44d2fc",
   "metadata": {},
   "outputs": [
    {
     "name": "stdout",
     "output_type": "stream",
     "text": [
      "8548335644\r\n",
      "6576521782\r\n",
      "1223677762\r\n",
      "1284713113\r\n",
      "6125654778\r\n",
      "6435726842\r\n",
      "5664175556\r\n",
      "1445736556\r\n",
      "2248473568\r\n",
      "6451473526\r\n"
     ]
    }
   ],
   "source": [
    "!head input.txt"
   ]
  },
  {
   "cell_type": "code",
   "execution_count": 24,
   "id": "56c6a406",
   "metadata": {},
   "outputs": [],
   "source": [
    "start = np.fromfile(\"input.txt\",dtype='int8',).reshape((10,11))[:,:-1]-ord('0')"
   ]
  },
  {
   "cell_type": "code",
   "execution_count": 67,
   "id": "ea6746c7",
   "metadata": {},
   "outputs": [],
   "source": [
    "start = np.frombuffer(b\"\"\"5483143223\n",
    "2745854711\n",
    "5264556173\n",
    "6141336146\n",
    "6357385478\n",
    "4167524645\n",
    "2176841721\n",
    "6882881134\n",
    "4846848554\n",
    "5283751526\n",
    "\"\"\",dtype='int8').reshape((10,11))[:,:-1]-ord('0')"
   ]
  },
  {
   "cell_type": "code",
   "execution_count": 7,
   "id": "402a211a",
   "metadata": {},
   "outputs": [],
   "source": [
    "import scipy.ndimage"
   ]
  },
  {
   "cell_type": "code",
   "execution_count": 9,
   "id": "5307d754",
   "metadata": {},
   "outputs": [],
   "source": [
    "scipy.ndimage.binary_dilation?"
   ]
  },
  {
   "cell_type": "code",
   "execution_count": 11,
   "id": "1712e876",
   "metadata": {
    "scrolled": true
   },
   "outputs": [
    {
     "data": {
      "text/plain": [
       "array([[False, False, False, False, False],\n",
       "       [False,  True,  True,  True, False],\n",
       "       [False,  True,  True,  True, False],\n",
       "       [False,  True,  True,  True, False],\n",
       "       [False, False, False, False, False]])"
      ]
     },
     "execution_count": 11,
     "metadata": {},
     "output_type": "execute_result"
    }
   ],
   "source": [
    "a = np.zeros((5,5))\n",
    "a[2,2]=1\n",
    "scipy.ndimage.binary_dilation(a,structure=scipy.ndimage.generate_binary_structure(2,2))"
   ]
  },
  {
   "cell_type": "code",
   "execution_count": 68,
   "id": "365d2bfe",
   "metadata": {},
   "outputs": [],
   "source": [
    "values = []\n",
    "flashed = []\n",
    "now = start.copy()\n",
    "for k in range(99):\n",
    "    now = now + 1\n",
    "    flash = np.zeros(now.shape,dtype=bool)\n",
    "    while np.any(now[~flash]>9):\n",
    "        flashing_now = now>9\n",
    "#        print(f\"flashing this round: {(now>9).sum()}\")\n",
    "        now[flashing_now]=0\n",
    "        flash = flash | flashing_now\n",
    "        affected = scipy.ndimage.binary_dilation(flashing_now,structure=scipy.ndimage.generate_binary_structure(2,2)).astype('bool')\n",
    "        now[affected] = now[affected]+1\n",
    "        now[flashing_now] = 0\n",
    "    now[flash] = 0\n",
    "    values.append(now)\n",
    "    flashed.append(flash)\n",
    "values = np.array(values)\n",
    "flashed=np.array(flashed)"
   ]
  },
  {
   "cell_type": "code",
   "execution_count": 69,
   "id": "f3cc77c8",
   "metadata": {},
   "outputs": [
    {
     "data": {
      "text/plain": [
       "(99, 10, 10)"
      ]
     },
     "execution_count": 69,
     "metadata": {},
     "output_type": "execute_result"
    }
   ],
   "source": [
    "values.shape"
   ]
  },
  {
   "cell_type": "code",
   "execution_count": 70,
   "id": "51027ada",
   "metadata": {},
   "outputs": [
    {
     "data": {
      "text/plain": [
       "1688"
      ]
     },
     "execution_count": 70,
     "metadata": {},
     "output_type": "execute_result"
    }
   ],
   "source": [
    "flashed.sum()"
   ]
  },
  {
   "cell_type": "code",
   "execution_count": 72,
   "id": "719f5151",
   "metadata": {},
   "outputs": [
    {
     "data": {
      "text/plain": [
       "array([[6, 5, 9, 4, 2, 5, 4, 3, 3, 4],\n",
       "       [3, 8, 5, 6, 9, 6, 5, 8, 2, 2],\n",
       "       [6, 3, 7, 5, 6, 6, 7, 2, 8, 4],\n",
       "       [7, 2, 5, 2, 4, 4, 7, 2, 5, 7],\n",
       "       [7, 4, 6, 8, 4, 9, 6, 5, 8, 9],\n",
       "       [5, 2, 7, 8, 6, 3, 5, 7, 5, 6],\n",
       "       [3, 2, 8, 7, 9, 5, 2, 8, 3, 2],\n",
       "       [7, 9, 9, 3, 9, 9, 2, 2, 4, 5],\n",
       "       [5, 9, 5, 7, 9, 5, 9, 6, 6, 5],\n",
       "       [6, 3, 9, 4, 8, 6, 2, 6, 3, 7]], dtype=int8)"
      ]
     },
     "execution_count": 72,
     "metadata": {},
     "output_type": "execute_result"
    }
   ],
   "source": [
    "values[0]"
   ]
  },
  {
   "cell_type": "code",
   "execution_count": 73,
   "id": "b9463431",
   "metadata": {},
   "outputs": [
    {
     "data": {
      "text/plain": [
       "array([[8, 8, 0, 6, 4, 7, 6, 5, 5, 5],\n",
       "       [5, 0, 8, 8, 0, 8, 7, 0, 5, 4],\n",
       "       [8, 5, 9, 7, 8, 8, 9, 5, 0, 8],\n",
       "       [8, 4, 8, 5, 7, 6, 9, 6, 0, 0],\n",
       "       [8, 7, 0, 0, 9, 0, 8, 8, 0, 0],\n",
       "       [6, 6, 0, 0, 0, 6, 7, 9, 8, 9],\n",
       "       [5, 6, 0, 0, 0, 8, 4, 9, 4, 3],\n",
       "       [9, 0, 0, 7, 0, 0, 4, 4, 5, 6],\n",
       "       [7, 0, 8, 0, 0, 8, 0, 8, 7, 6],\n",
       "       [8, 5, 0, 8, 0, 9, 4, 8, 4, 8]], dtype=int8)"
      ]
     },
     "execution_count": 73,
     "metadata": {},
     "output_type": "execute_result"
    }
   ],
   "source": [
    "values[1]"
   ]
  },
  {
   "cell_type": "code",
   "execution_count": 75,
   "id": "f5b38081",
   "metadata": {},
   "outputs": [
    {
     "data": {
      "text/plain": [
       "array([[0, 0, 1, 0, 0, 0, 0, 0, 0, 0],\n",
       "       [0, 1, 0, 0, 1, 0, 0, 1, 0, 0],\n",
       "       [0, 0, 0, 0, 0, 0, 0, 0, 1, 0],\n",
       "       [0, 0, 0, 0, 0, 0, 0, 0, 1, 1],\n",
       "       [0, 0, 1, 1, 0, 1, 0, 0, 1, 1],\n",
       "       [0, 0, 1, 1, 1, 0, 0, 0, 0, 0],\n",
       "       [0, 0, 1, 1, 1, 0, 0, 0, 0, 0],\n",
       "       [0, 1, 1, 0, 1, 1, 0, 0, 0, 0],\n",
       "       [0, 1, 0, 1, 1, 0, 1, 0, 0, 0],\n",
       "       [0, 0, 1, 0, 1, 0, 0, 0, 0, 0]], dtype=int8)"
      ]
     },
     "execution_count": 75,
     "metadata": {},
     "output_type": "execute_result"
    }
   ],
   "source": [
    "flashed[1].astype('int8')"
   ]
  },
  {
   "cell_type": "code",
   "execution_count": null,
   "id": "d00cee84",
   "metadata": {},
   "outputs": [],
   "source": []
  },
  {
   "cell_type": "code",
   "execution_count": 17,
   "id": "66d51fe1",
   "metadata": {},
   "outputs": [
    {
     "data": {
      "text/plain": [
       "1000"
      ]
     },
     "execution_count": 17,
     "metadata": {},
     "output_type": "execute_result"
    }
   ],
   "source": [
    "flashed.sum()"
   ]
  },
  {
   "cell_type": "code",
   "execution_count": 19,
   "id": "9123e91f",
   "metadata": {},
   "outputs": [
    {
     "data": {
      "text/plain": [
       "1000"
      ]
     },
     "execution_count": 19,
     "metadata": {},
     "output_type": "execute_result"
    }
   ],
   "source": [
    "flashed.astype('int32').sum()"
   ]
  },
  {
   "cell_type": "code",
   "execution_count": null,
   "id": "1dfe1e5b",
   "metadata": {},
   "outputs": [],
   "source": []
  }
 ],
 "metadata": {
  "kernelspec": {
   "display_name": "Python 3 (ipykernel)",
   "language": "python",
   "name": "python3"
  },
  "language_info": {
   "codemirror_mode": {
    "name": "ipython",
    "version": 3
   },
   "file_extension": ".py",
   "mimetype": "text/x-python",
   "name": "python",
   "nbconvert_exporter": "python",
   "pygments_lexer": "ipython3",
   "version": "3.9.7"
  }
 },
 "nbformat": 4,
 "nbformat_minor": 5
}
