{
 "cells": [
  {
   "cell_type": "markdown",
   "id": "de923dc3",
   "metadata": {},
   "source": [
    "# Introduction\n",
    "State notebook purpose here"
   ]
  },
  {
   "cell_type": "markdown",
   "id": "f980a7d7",
   "metadata": {},
   "source": [
    "### Imports\n",
    "\n",
    "Import libraries and write settings here."
   ]
  },
  {
   "cell_type": "code",
   "execution_count": 1,
   "id": "b9e6b8c7",
   "metadata": {},
   "outputs": [
    {
     "name": "stderr",
     "output_type": "stream",
     "text": [
      "/tmp/ipykernel_119342/522556316.py:6: TqdmExperimentalWarning: Using `tqdm.autonotebook.tqdm` in notebook mode. Use `tqdm.tqdm` instead to force console mode (e.g. in jupyter console)\n",
      "  from tqdm.autonotebook import tqdm\n"
     ]
    }
   ],
   "source": [
    "%matplotlib inline\n",
    "from matplotlib import pyplot as plt\n",
    "# Data manipulation\n",
    "import pandas as pd\n",
    "import numpy as np\n",
    "from tqdm.autonotebook import tqdm\n",
    "\n",
    "from IPython import get_ipython\n",
    "ipython = get_ipython()\n",
    "\n",
    "# Options for pandas\n",
    "pd.options.display.max_columns = 50\n",
    "pd.options.display.max_rows = 30\n",
    "\n",
    "# autoreload extension\n",
    "if 'autoreload' not in ipython.extension_manager.loaded:\n",
    "    %load_ext autoreload\n",
    "\n",
    "%autoreload 2\n",
    "\n",
    "# Visualizations\n",
    "#import plotly.plotly as py\n",
    "#import plotly.graph_objs as go\n",
    "#from plotly.offline import iplot, init_notebook_mode\n",
    "#init_notebook_mode(connected=True)\n",
    "\n",
    "#import cufflinks as cf\n",
    "#cf.go_offline(connected=True)\n",
    "#cf.set_config_file(theme='white')\n"
   ]
  },
  {
   "cell_type": "markdown",
   "id": "8b63c62e",
   "metadata": {},
   "source": [
    "# Analysis/Modeling\n",
    "Do work here"
   ]
  },
  {
   "cell_type": "markdown",
   "id": "90c0855a",
   "metadata": {},
   "source": [
    "# Results\n",
    "Show graphs and stats here"
   ]
  },
  {
   "cell_type": "markdown",
   "id": "209dcfc5",
   "metadata": {},
   "source": [
    "# Conclusions and Next Steps\n",
    "Summarize findings here"
   ]
  },
  {
   "cell_type": "code",
   "execution_count": 2,
   "id": "bead3607",
   "metadata": {},
   "outputs": [
    {
     "name": "stdout",
     "output_type": "stream",
     "text": [
      "9897656789865467895698765469899988672134598894345689864101378965457932349943210987654789653198789434\r\n",
      "8789542499996878954329984398789976561012987789245678953212567892345791998899329899765678969997668912\r\n",
      "7678943978987989965998993297649875432129876567956789864487678991056899877778939769886789998766457899\r\n",
      "4578999868998996899867894976532986543299876476897899987569899989167898766567898654998898998655345678\r\n",
      "2456987657679535679756799988643498657987654345789978899789998878998919954349997543219967987543237889\r\n",
      "1234896545568986798645678999754989767898765456998769759899987765789329863238898659301256798793156891\r\n",
      "2346789432379997987434689489899879898919876567899954346998796434678997642127789798512345989989247892\r\n",
      "8756894210998989876545694378987868999101998688999863238987684323457789751015678987654459878678956994\r\n",
      "9769995679876978998656789469876957893212999899989764649876576212345678953223489698866598754567897989\r\n",
      "9878989989885467899787896598765648789329876959879986768985432101567789998654599549977987543468998978\r\n"
     ]
    }
   ],
   "source": [
    "!head input.txt"
   ]
  },
  {
   "cell_type": "code",
   "execution_count": 66,
   "id": "2d8e3e76",
   "metadata": {},
   "outputs": [],
   "source": [
    "z = np.memmap(\"input.txt\",mode=\"r\",dtype='int8',shape=(100,101))\n",
    "z = z[:,:-1] # trim newlines\n",
    "z = z-ord(\"0\")"
   ]
  },
  {
   "cell_type": "code",
   "execution_count": 67,
   "id": "f38c83f3",
   "metadata": {},
   "outputs": [
    {
     "data": {
      "text/plain": [
       "(100, 100)"
      ]
     },
     "execution_count": 67,
     "metadata": {},
     "output_type": "execute_result"
    }
   ],
   "source": [
    "z.shape"
   ]
  },
  {
   "cell_type": "code",
   "execution_count": 68,
   "id": "bf446f9e",
   "metadata": {},
   "outputs": [
    {
     "data": {
      "text/plain": [
       "<matplotlib.collections.QuadMesh at 0x7f5991b98ca0>"
      ]
     },
     "execution_count": 68,
     "metadata": {},
     "output_type": "execute_result"
    },
    {
     "data": {
      "image/png": "[encoded data removed]",
      "text/plain": [
       "<Figure size 432x288 with 1 Axes>"
      ]
     },
     "metadata": {
      "needs_background": "light"
     },
     "output_type": "display_data"
    }
   ],
   "source": [
    "plt.pcolormesh(z)"
   ]
  },
  {
   "cell_type": "code",
   "execution_count": 35,
   "id": "436a88e4",
   "metadata": {},
   "outputs": [],
   "source": [
    "import scipy.signal,scipy.ndimage"
   ]
  },
  {
   "cell_type": "code",
   "execution_count": 28,
   "id": "40d2f7f4",
   "metadata": {},
   "outputs": [],
   "source": [
    "z = np.frombuffer(b\"\"\"2199943210\n",
    "3987894921\n",
    "9856789892\n",
    "8767896789\n",
    "9899965678\n",
    "\"\"\",dtype='int8')\n",
    "z=z.reshape((5,11))[:,:-1]\n",
    "z=z-ord(\"0\")"
   ]
  },
  {
   "cell_type": "code",
   "execution_count": 29,
   "id": "c25a49c4",
   "metadata": {},
   "outputs": [
    {
     "data": {
      "text/plain": [
       "array([[2, 1, 9, 9, 9, 4, 3, 2, 1, 0],\n",
       "       [3, 9, 8, 7, 8, 9, 4, 9, 2, 1],\n",
       "       [9, 8, 5, 6, 7, 8, 9, 8, 9, 2],\n",
       "       [8, 7, 6, 7, 8, 9, 6, 7, 8, 9],\n",
       "       [9, 8, 9, 9, 9, 6, 5, 6, 7, 8]], dtype=int8)"
      ]
     },
     "execution_count": 29,
     "metadata": {},
     "output_type": "execute_result"
    }
   ],
   "source": [
    "z"
   ]
  },
  {
   "cell_type": "code",
   "execution_count": 79,
   "id": "4bade04b",
   "metadata": {},
   "outputs": [],
   "source": [
    "zpad = np.pad(z,1,mode='edge')\n",
    "zpad[0,:]+=1\n",
    "zpad[:,0]+=1\n",
    "zpad[-1,:]+=1\n",
    "zpad[:,-1]+=1"
   ]
  },
  {
   "cell_type": "code",
   "execution_count": 80,
   "id": "e91f03e8",
   "metadata": {},
   "outputs": [],
   "source": [
    "locs = []\n",
    "vals = []\n",
    "for r in range(1,zpad.shape[0]-1):\n",
    "    for c in range(1,zpad.shape[1]-1):\n",
    "        val = zpad[r,c]\n",
    "        left = zpad[r,c-1]\n",
    "        right = zpad[r,c+1]\n",
    "        up = zpad[r+1,c]\n",
    "        down = zpad[r-1,c]\n",
    "        if val < left and val < right and val < up and val < down:\n",
    "            locs.append((r,c))\n",
    "            vals.append(val)"
   ]
  },
  {
   "cell_type": "code",
   "execution_count": 81,
   "id": "e6c7eb07",
   "metadata": {},
   "outputs": [
    {
     "name": "stdout",
     "output_type": "stream",
     "text": [
      "[[6 5 7]\n",
      " [5 4 6]\n",
      " [6 8 7]]\n",
      "[[2 1 3]\n",
      " [1 0 1]\n",
      " [2 1 2]]\n",
      "[[9 9 6]\n",
      " [5 3 5]\n",
      " [9 8 6]]\n",
      "[[6 4 5]\n",
      " [4 3 4]\n",
      " [5 4 5]]\n",
      "[[9 9 8]\n",
      " [9 4 9]\n",
      " [9 5 9]]\n",
      "[[9 2 9]\n",
      " [3 1 9]\n",
      " [4 2 9]]\n",
      "[[8 9 9]\n",
      " [9 0 9]\n",
      " [9 2 9]]\n",
      "[[9 3 2]\n",
      " [9 0 1]\n",
      " [8 1 3]]\n",
      "[[3 2 3]\n",
      " [2 1 2]\n",
      " [3 2 3]]\n",
      "[[3 1 9]\n",
      " [9 0 1]\n",
      " [8 9 9]]\n",
      "[[3 2 3]\n",
      " [6 1 2]\n",
      " [5 2 3]]\n",
      "[[3 2 3]\n",
      " [2 1 2]\n",
      " [3 2 3]]\n",
      "[[ 4  2  3]\n",
      " [ 9  1  2]\n",
      " [ 8  9 10]]\n",
      "[[3 2 3]\n",
      " [1 0 9]\n",
      " [2 9 8]]\n",
      "[[3 1 2]\n",
      " [5 0 3]\n",
      " [2 1 7]]\n",
      "[[4 3 4]\n",
      " [3 2 3]\n",
      " [4 4 7]]\n",
      "[[3 2 3]\n",
      " [2 1 4]\n",
      " [3 2 5]]\n",
      "[[7 7 8]\n",
      " [6 5 6]\n",
      " [7 6 7]]\n",
      "[[10  9  8]\n",
      " [ 3  2  9]\n",
      " [ 4  3  9]]\n",
      "[[4 3 4]\n",
      " [3 2 3]\n",
      " [8 3 4]]\n",
      "[[8 9 8]\n",
      " [9 0 9]\n",
      " [9 1 2]]\n",
      "[[3 9 8]\n",
      " [1 0 9]\n",
      " [2 1 2]]\n",
      "[[9 1 9]\n",
      " [9 0 1]\n",
      " [8 9 9]]\n",
      "[[3 9 7]\n",
      " [2 1 9]\n",
      " [3 2 9]]\n",
      "[[4 4 5]\n",
      " [3 2 4]\n",
      " [9 3 5]]\n",
      "[[4 3 4]\n",
      " [3 2 3]\n",
      " [9 3 4]]\n",
      "[[9 9 9]\n",
      " [4 2 9]\n",
      " [9 9 8]]\n",
      "[[9 9 7]\n",
      " [1 0 9]\n",
      " [2 1 2]]\n",
      "[[6 5 6]\n",
      " [6 3 9]\n",
      " [5 4 9]]\n",
      "[[6 5 6]\n",
      " [5 4 7]\n",
      " [7 5 6]]\n",
      "[[3 2 2]\n",
      " [4 0 1]\n",
      " [2 1 9]]\n",
      "[[3 1 2]\n",
      " [1 0 3]\n",
      " [2 5 4]]\n",
      "[[6 4 5]\n",
      " [4 3 4]\n",
      " [5 4 7]]\n",
      "[[4 2 3]\n",
      " [2 1 2]\n",
      " [3 3 3]]\n",
      "[[5 4 6]\n",
      " [4 3 5]\n",
      " [5 9 6]]\n",
      "[[ 8  9  9]\n",
      " [ 9  2  3]\n",
      " [10  3  4]]\n"
     ]
    }
   ],
   "source": [
    "for r,c in locs[::7]:\n",
    "    print(zpad[r-1:r+2,c-1:c+2])"
   ]
  },
  {
   "cell_type": "code",
   "execution_count": 82,
   "id": "37d64f9d",
   "metadata": {},
   "outputs": [
    {
     "data": {
      "text/plain": [
       "[(1, 14),\n",
       " (1, 57),\n",
       " (1, 79),\n",
       " (1, 85),\n",
       " (1, 92),\n",
       " (2, 7),\n",
       " (2, 21),\n",
       " (2, 38),\n",
       " (2, 47),\n",
       " (2, 70),\n",
       " (2, 99),\n",
       " (3, 26),\n",
       " (3, 65),\n",
       " (4, 31),\n",
       " (5, 15),\n",
       " (5, 44),\n",
       " (5, 69),\n",
       " (6, 1),\n",
       " (6, 84),\n",
       " (6, 95),\n",
       " (6, 100),\n",
       " (7, 21),\n",
       " (8, 10),\n",
       " (8, 26),\n",
       " (8, 39),\n",
       " (8, 53),\n",
       " (8, 74),\n",
       " (10, 63),\n",
       " (11, 72),\n",
       " (11, 91),\n",
       " (12, 1),\n",
       " (12, 13),\n",
       " (12, 24),\n",
       " (12, 33),\n",
       " (12, 81),\n",
       " (12, 86),\n",
       " (12, 98),\n",
       " (13, 45),\n",
       " (13, 57),\n",
       " (14, 53),\n",
       " (14, 68),\n",
       " (16, 6),\n",
       " (16, 31),\n",
       " (16, 65),\n",
       " (16, 95),\n",
       " (17, 11),\n",
       " (17, 19),\n",
       " (17, 78),\n",
       " (18, 38),\n",
       " (18, 49),\n",
       " (19, 26),\n",
       " (19, 72),\n",
       " (19, 83),\n",
       " (20, 99),\n",
       " (21, 59),\n",
       " (22, 89),\n",
       " (23, 3),\n",
       " (23, 17),\n",
       " (24, 33),\n",
       " (24, 43),\n",
       " (24, 47),\n",
       " (24, 76),\n",
       " (26, 26),\n",
       " (26, 70),\n",
       " (26, 85),\n",
       " (26, 97),\n",
       " (27, 8),\n",
       " (27, 45),\n",
       " (27, 55),\n",
       " (27, 64),\n",
       " (28, 38),\n",
       " (28, 89),\n",
       " (29, 1),\n",
       " (30, 75),\n",
       " (31, 13),\n",
       " (31, 23),\n",
       " (31, 32),\n",
       " (31, 49),\n",
       " (31, 61),\n",
       " (31, 67),\n",
       " (31, 78),\n",
       " (32, 96),\n",
       " (33, 7),\n",
       " (33, 41),\n",
       " (33, 100),\n",
       " (34, 75),\n",
       " (34, 92),\n",
       " (35, 28),\n",
       " (36, 3),\n",
       " (36, 54),\n",
       " (36, 61),\n",
       " (36, 84),\n",
       " (36, 100),\n",
       " (37, 35),\n",
       " (37, 46),\n",
       " (37, 49),\n",
       " (37, 70),\n",
       " (37, 96),\n",
       " (38, 18),\n",
       " (38, 79),\n",
       " (39, 61),\n",
       " (39, 91),\n",
       " (40, 9),\n",
       " (40, 85),\n",
       " (41, 73),\n",
       " (42, 25),\n",
       " (42, 50),\n",
       " (42, 97),\n",
       " (43, 32),\n",
       " (43, 45),\n",
       " (43, 78),\n",
       " (43, 90),\n",
       " (45, 1),\n",
       " (45, 66),\n",
       " (46, 8),\n",
       " (46, 20),\n",
       " (47, 57),\n",
       " (47, 62),\n",
       " (47, 84),\n",
       " (48, 24),\n",
       " (48, 40),\n",
       " (48, 72),\n",
       " (48, 100),\n",
       " (49, 92),\n",
       " (50, 4),\n",
       " (50, 77),\n",
       " (52, 1),\n",
       " (52, 14),\n",
       " (52, 51),\n",
       " (53, 23),\n",
       " (53, 32),\n",
       " (53, 61),\n",
       " (53, 67),\n",
       " (54, 7),\n",
       " (55, 27),\n",
       " (55, 83),\n",
       " (55, 100),\n",
       " (56, 1),\n",
       " (56, 41),\n",
       " (56, 79),\n",
       " (57, 47),\n",
       " (57, 72),\n",
       " (57, 89),\n",
       " (59, 10),\n",
       " (60, 25),\n",
       " (60, 38),\n",
       " (61, 55),\n",
       " (61, 82),\n",
       " (62, 4),\n",
       " (62, 31),\n",
       " (63, 17),\n",
       " (64, 23),\n",
       " (64, 35),\n",
       " (64, 40),\n",
       " (64, 45),\n",
       " (64, 63),\n",
       " (64, 86),\n",
       " (64, 94),\n",
       " (65, 74),\n",
       " (66, 21),\n",
       " (66, 52),\n",
       " (66, 58),\n",
       " (67, 26),\n",
       " (68, 12),\n",
       " (68, 46),\n",
       " (68, 90),\n",
       " (69, 3),\n",
       " (69, 60),\n",
       " (70, 38),\n",
       " (70, 67),\n",
       " (71, 31),\n",
       " (72, 11),\n",
       " (72, 77),\n",
       " (72, 84),\n",
       " (73, 52),\n",
       " (73, 100),\n",
       " (74, 37),\n",
       " (75, 17),\n",
       " (75, 24),\n",
       " (75, 47),\n",
       " (75, 58),\n",
       " (75, 73),\n",
       " (75, 92),\n",
       " (76, 1),\n",
       " (76, 43),\n",
       " (76, 67),\n",
       " (76, 81),\n",
       " (78, 10),\n",
       " (78, 20),\n",
       " (78, 79),\n",
       " (78, 96),\n",
       " (79, 31),\n",
       " (79, 53),\n",
       " (79, 61),\n",
       " (80, 39),\n",
       " (81, 71),\n",
       " (81, 83),\n",
       " (81, 88),\n",
       " (82, 48),\n",
       " (83, 5),\n",
       " (83, 15),\n",
       " (83, 37),\n",
       " (83, 58),\n",
       " (83, 65),\n",
       " (83, 95),\n",
       " (84, 24),\n",
       " (85, 44),\n",
       " (86, 72),\n",
       " (86, 78),\n",
       " (87, 1),\n",
       " (87, 31),\n",
       " (87, 85),\n",
       " (88, 39),\n",
       " (88, 66),\n",
       " (88, 94),\n",
       " (88, 100),\n",
       " (89, 55),\n",
       " (90, 7),\n",
       " (90, 19),\n",
       " (90, 47),\n",
       " (90, 75),\n",
       " (92, 14),\n",
       " (92, 24),\n",
       " (92, 60),\n",
       " (92, 69),\n",
       " (93, 41),\n",
       " (93, 53),\n",
       " (93, 85),\n",
       " (94, 20),\n",
       " (94, 50),\n",
       " (94, 94),\n",
       " (95, 31),\n",
       " (95, 78),\n",
       " (95, 90),\n",
       " (97, 2),\n",
       " (98, 25),\n",
       " (98, 38),\n",
       " (98, 57),\n",
       " (98, 98),\n",
       " (99, 11),\n",
       " (99, 19),\n",
       " (99, 44),\n",
       " (99, 63),\n",
       " (99, 93),\n",
       " (100, 48),\n",
       " (100, 50),\n",
       " (100, 75),\n",
       " (100, 81),\n",
       " (100, 87)]"
      ]
     },
     "execution_count": 82,
     "metadata": {},
     "output_type": "execute_result"
    }
   ],
   "source": [
    "locs"
   ]
  },
  {
   "cell_type": "code",
   "execution_count": 83,
   "id": "12d67ccb",
   "metadata": {},
   "outputs": [
    {
     "data": {
      "text/plain": [
       "607"
      ]
     },
     "execution_count": 83,
     "metadata": {},
     "output_type": "execute_result"
    }
   ],
   "source": [
    "sum(vals)+len(vals)"
   ]
  },
  {
   "cell_type": "code",
   "execution_count": 84,
   "id": "5ff2a8df",
   "metadata": {},
   "outputs": [],
   "source": [
    "import scipy.ndimage"
   ]
  },
  {
   "cell_type": "code",
   "execution_count": 91,
   "id": "167a52e4",
   "metadata": {},
   "outputs": [
    {
     "ename": "TypeError",
     "evalue": "generate_binary_structure() missing 1 required positional argument: 'connectivity'",
     "output_type": "error",
     "traceback": [
      "\u001b[0;31m---------------------------------------------------------------------------\u001b[0m",
      "\u001b[0;31mTypeError\u001b[0m                                 Traceback (most recent call last)",
      "\u001b[0;32m/tmp/ipykernel_119342/2373695996.py\u001b[0m in \u001b[0;36m<module>\u001b[0;34m\u001b[0m\n\u001b[0;32m----> 1\u001b[0;31m \u001b[0mplt\u001b[0m\u001b[0;34m.\u001b[0m\u001b[0mpcolormesh\u001b[0m\u001b[0;34m(\u001b[0m\u001b[0mscipy\u001b[0m\u001b[0;34m.\u001b[0m\u001b[0mndimage\u001b[0m\u001b[0;34m.\u001b[0m\u001b[0mgenerate_binary_structure\u001b[0m\u001b[0;34m(\u001b[0m\u001b[0mzpad\u001b[0m\u001b[0;34m)\u001b[0m\u001b[0;34m)\u001b[0m\u001b[0;34m\u001b[0m\u001b[0;34m\u001b[0m\u001b[0m\n\u001b[0m",
      "\u001b[0;31mTypeError\u001b[0m: generate_binary_structure() missing 1 required positional argument: 'connectivity'"
     ]
    }
   ],
   "source": [
    "plt.pcolormesh(scipy.ndimage.)"
   ]
  },
  {
   "cell_type": "code",
   "execution_count": 85,
   "id": "2b32a238",
   "metadata": {},
   "outputs": [
    {
     "data": {
      "text/plain": [
       "<module 'scipy.ndimage' from '/home/glenn/miniconda3/envs/notebook/lib/python3.9/site-packages/scipy/ndimage/__init__.py'>"
      ]
     },
     "execution_count": 85,
     "metadata": {},
     "output_type": "execute_result"
    }
   ],
   "source": [
    "scipy.ndimage.watershed_ift()"
   ]
  },
  {
   "cell_type": "code",
   "execution_count": null,
   "id": "20d1490e",
   "metadata": {},
   "outputs": [],
   "source": []
  },
  {
   "cell_type": "code",
   "execution_count": 56,
   "id": "d351549b",
   "metadata": {},
   "outputs": [],
   "source": [
    "dr = np.diff(zpad,axis=0)\n",
    "dc = np.diff(zpad,axis=1)"
   ]
  },
  {
   "cell_type": "code",
   "execution_count": 49,
   "id": "af9e864f",
   "metadata": {},
   "outputs": [
    {
     "data": {
      "text/plain": [
       "(6, 12)"
      ]
     },
     "execution_count": 49,
     "metadata": {},
     "output_type": "execute_result"
    }
   ],
   "source": [
    "dr.shape"
   ]
  },
  {
   "cell_type": "code",
   "execution_count": 53,
   "id": "84a44087",
   "metadata": {},
   "outputs": [
    {
     "data": {
      "text/plain": [
       "array([[ 0,  0,  0,  0,  0,  0,  0,  0,  0,  0,  0,  0],\n",
       "       [ 1,  1,  8, -1, -2, -1,  5,  1,  7,  1,  1,  1],\n",
       "       [ 6,  6, -1, -3, -1, -1, -1,  5, -1,  7,  1,  1],\n",
       "       [-1, -1, -1,  1,  1,  1,  1, -3, -1, -1,  7,  7],\n",
       "       [ 1,  1,  1,  3,  2,  1, -3, -1, -1, -1, -1, -1],\n",
       "       [ 0,  0,  0,  0,  0,  0,  0,  0,  0,  0,  0,  0]], dtype=int8)"
      ]
     },
     "execution_count": 53,
     "metadata": {},
     "output_type": "execute_result"
    }
   ],
   "source": [
    "dr"
   ]
  },
  {
   "cell_type": "code",
   "execution_count": 50,
   "id": "1436d5bc",
   "metadata": {},
   "outputs": [
    {
     "data": {
      "text/plain": [
       "(7, 11)"
      ]
     },
     "execution_count": 50,
     "metadata": {},
     "output_type": "execute_result"
    }
   ],
   "source": [
    "dc.shape"
   ]
  },
  {
   "cell_type": "code",
   "execution_count": 42,
   "id": "6049196b",
   "metadata": {},
   "outputs": [
    {
     "data": {
      "text/plain": [
       "array([[2, 2, 1, 9, 9, 9, 4, 3, 2, 1, 0, 0],\n",
       "       [2, 2, 1, 9, 9, 9, 4, 3, 2, 1, 0, 0],\n",
       "       [3, 3, 9, 8, 7, 8, 9, 4, 9, 2, 1, 1],\n",
       "       [9, 9, 8, 5, 6, 7, 8, 9, 8, 9, 2, 2],\n",
       "       [8, 8, 7, 6, 7, 8, 9, 6, 7, 8, 9, 9],\n",
       "       [9, 9, 8, 9, 9, 9, 6, 5, 6, 7, 8, 8],\n",
       "       [9, 9, 8, 9, 9, 9, 6, 5, 6, 7, 8, 8]], dtype=int8)"
      ]
     },
     "execution_count": 42,
     "metadata": {},
     "output_type": "execute_result"
    }
   ],
   "source": [
    "zpad"
   ]
  },
  {
   "cell_type": "code",
   "execution_count": 30,
   "id": "7d715653",
   "metadata": {},
   "outputs": [],
   "source": [
    "ext = scipy.signal.argrelextrema(z,np.less)"
   ]
  },
  {
   "cell_type": "code",
   "execution_count": 34,
   "id": "9340b1dd",
   "metadata": {},
   "outputs": [],
   "source": [
    "np.less?"
   ]
  },
  {
   "cell_type": "code",
   "execution_count": 31,
   "id": "4a64d1ed",
   "metadata": {},
   "outputs": [
    {
     "data": {
      "text/plain": [
       "6"
      ]
     },
     "execution_count": 31,
     "metadata": {},
     "output_type": "execute_result"
    }
   ],
   "source": [
    "len(ext[0])"
   ]
  },
  {
   "cell_type": "code",
   "execution_count": 33,
   "id": "868cfe46",
   "metadata": {},
   "outputs": [
    {
     "data": {
      "text/plain": [
       "(array([2, 2, 2, 2, 3, 3]), array([2, 3, 4, 5, 0, 1]))"
      ]
     },
     "execution_count": 33,
     "metadata": {},
     "output_type": "execute_result"
    }
   ],
   "source": [
    "ext"
   ]
  },
  {
   "cell_type": "code",
   "execution_count": 32,
   "id": "542c2d3e",
   "metadata": {},
   "outputs": [
    {
     "data": {
      "text/plain": [
       "47"
      ]
     },
     "execution_count": 32,
     "metadata": {},
     "output_type": "execute_result"
    }
   ],
   "source": [
    "z[ext[0],ext[1]].sum()+len(ext[0])"
   ]
  },
  {
   "cell_type": "code",
   "execution_count": 24,
   "id": "0afe7404",
   "metadata": {},
   "outputs": [
    {
     "data": {
      "text/plain": [
       "[memmap([[-1. , -1. , -1. , ...,  5. , -2. , -2. ],\n",
       "         [-1. , -1. , -1. , ...,  2. ,  3. ,  2.5],\n",
       "         [-2. , -1. , -0.5, ..., -1.5,  3. ,  3. ],\n",
       "         ...,\n",
       "         [ 1.5,  1. ,  1. , ...,  2.5,  0. ,  0. ],\n",
       "         [ 1.5,  1. ,  1. , ...,  2.5,  1. ,  1.5],\n",
       "         [ 1. ,  1. ,  1. , ..., -1. ,  1. ,  2. ]]),\n",
       " memmap([[-1. ,  0. , -0.5, ..., -3. ,  0. ,  1. ],\n",
       "         [-1. ,  0. ,  1. , ..., -3.5, -3.5,  1. ],\n",
       "         [-1. ,  0. ,  1. , ...,  1. ,  0.5,  0. ],\n",
       "         ...,\n",
       "         [-1. ,  0. ,  1. , ...,  0.5,  1.5,  1. ],\n",
       "         [-2. , -0.5,  1. , ...,  0.5, -1. ,  1. ],\n",
       "         [-2. , -0.5,  1.5, ...,  0.5,  0.5,  2. ]])]"
      ]
     },
     "execution_count": 24,
     "metadata": {},
     "output_type": "execute_result"
    }
   ],
   "source": [
    "np.gradient(z)"
   ]
  },
  {
   "cell_type": "code",
   "execution_count": 22,
   "id": "6ffc289c",
   "metadata": {},
   "outputs": [
    {
     "ename": "AttributeError",
     "evalue": "'list' object has no attribute 'shape'",
     "output_type": "error",
     "traceback": [
      "\u001b[0;31m---------------------------------------------------------------------------\u001b[0m",
      "\u001b[0;31mAttributeError\u001b[0m                            Traceback (most recent call last)",
      "\u001b[0;32m/tmp/ipykernel_118584/2996251691.py\u001b[0m in \u001b[0;36m<module>\u001b[0;34m\u001b[0m\n\u001b[0;32m----> 1\u001b[0;31m \u001b[0mddz\u001b[0m\u001b[0;34m.\u001b[0m\u001b[0mshape\u001b[0m\u001b[0;34m\u001b[0m\u001b[0;34m\u001b[0m\u001b[0m\n\u001b[0m",
      "\u001b[0;31mAttributeError\u001b[0m: 'list' object has no attribute 'shape'"
     ]
    }
   ],
   "source": [
    "ddz.shape"
   ]
  },
  {
   "cell_type": "code",
   "execution_count": 21,
   "id": "49d7b644",
   "metadata": {},
   "outputs": [
    {
     "ename": "ValueError",
     "evalue": "too many values to unpack (expected 2)",
     "output_type": "error",
     "traceback": [
      "\u001b[0;31m---------------------------------------------------------------------------\u001b[0m",
      "\u001b[0;31mValueError\u001b[0m                                Traceback (most recent call last)",
      "\u001b[0;32m/tmp/ipykernel_118584/2963265931.py\u001b[0m in \u001b[0;36m<module>\u001b[0;34m\u001b[0m\n\u001b[0;32m----> 1\u001b[0;31m \u001b[0mplt\u001b[0m\u001b[0;34m.\u001b[0m\u001b[0mpcolormesh\u001b[0m\u001b[0;34m(\u001b[0m\u001b[0mddz\u001b[0m\u001b[0;34m)\u001b[0m\u001b[0;34m\u001b[0m\u001b[0;34m\u001b[0m\u001b[0m\n\u001b[0m",
      "\u001b[0;32m~/miniconda3/envs/notebook/lib/python3.9/site-packages/matplotlib/pyplot.py\u001b[0m in \u001b[0;36mpcolormesh\u001b[0;34m(alpha, norm, cmap, vmin, vmax, shading, antialiased, data, *args, **kwargs)\u001b[0m\n\u001b[1;32m   2978\u001b[0m         \u001b[0mvmax\u001b[0m\u001b[0;34m=\u001b[0m\u001b[0;32mNone\u001b[0m\u001b[0;34m,\u001b[0m \u001b[0mshading\u001b[0m\u001b[0;34m=\u001b[0m\u001b[0;32mNone\u001b[0m\u001b[0;34m,\u001b[0m \u001b[0mantialiased\u001b[0m\u001b[0;34m=\u001b[0m\u001b[0;32mFalse\u001b[0m\u001b[0;34m,\u001b[0m \u001b[0mdata\u001b[0m\u001b[0;34m=\u001b[0m\u001b[0;32mNone\u001b[0m\u001b[0;34m,\u001b[0m\u001b[0;34m\u001b[0m\u001b[0;34m\u001b[0m\u001b[0m\n\u001b[1;32m   2979\u001b[0m         **kwargs):\n\u001b[0;32m-> 2980\u001b[0;31m     __ret = gca().pcolormesh(\n\u001b[0m\u001b[1;32m   2981\u001b[0m         \u001b[0;34m*\u001b[0m\u001b[0margs\u001b[0m\u001b[0;34m,\u001b[0m \u001b[0malpha\u001b[0m\u001b[0;34m=\u001b[0m\u001b[0malpha\u001b[0m\u001b[0;34m,\u001b[0m \u001b[0mnorm\u001b[0m\u001b[0;34m=\u001b[0m\u001b[0mnorm\u001b[0m\u001b[0;34m,\u001b[0m \u001b[0mcmap\u001b[0m\u001b[0;34m=\u001b[0m\u001b[0mcmap\u001b[0m\u001b[0;34m,\u001b[0m \u001b[0mvmin\u001b[0m\u001b[0;34m=\u001b[0m\u001b[0mvmin\u001b[0m\u001b[0;34m,\u001b[0m\u001b[0;34m\u001b[0m\u001b[0;34m\u001b[0m\u001b[0m\n\u001b[1;32m   2982\u001b[0m         \u001b[0mvmax\u001b[0m\u001b[0;34m=\u001b[0m\u001b[0mvmax\u001b[0m\u001b[0;34m,\u001b[0m \u001b[0mshading\u001b[0m\u001b[0;34m=\u001b[0m\u001b[0mshading\u001b[0m\u001b[0;34m,\u001b[0m \u001b[0mantialiased\u001b[0m\u001b[0;34m=\u001b[0m\u001b[0mantialiased\u001b[0m\u001b[0;34m,\u001b[0m\u001b[0;34m\u001b[0m\u001b[0;34m\u001b[0m\u001b[0m\n",
      "\u001b[0;32m~/miniconda3/envs/notebook/lib/python3.9/site-packages/matplotlib/__init__.py\u001b[0m in \u001b[0;36minner\u001b[0;34m(ax, data, *args, **kwargs)\u001b[0m\n\u001b[1;32m   1359\u001b[0m     \u001b[0;32mdef\u001b[0m \u001b[0minner\u001b[0m\u001b[0;34m(\u001b[0m\u001b[0max\u001b[0m\u001b[0;34m,\u001b[0m \u001b[0;34m*\u001b[0m\u001b[0margs\u001b[0m\u001b[0;34m,\u001b[0m \u001b[0mdata\u001b[0m\u001b[0;34m=\u001b[0m\u001b[0;32mNone\u001b[0m\u001b[0;34m,\u001b[0m \u001b[0;34m**\u001b[0m\u001b[0mkwargs\u001b[0m\u001b[0;34m)\u001b[0m\u001b[0;34m:\u001b[0m\u001b[0;34m\u001b[0m\u001b[0;34m\u001b[0m\u001b[0m\n\u001b[1;32m   1360\u001b[0m         \u001b[0;32mif\u001b[0m \u001b[0mdata\u001b[0m \u001b[0;32mis\u001b[0m \u001b[0;32mNone\u001b[0m\u001b[0;34m:\u001b[0m\u001b[0;34m\u001b[0m\u001b[0;34m\u001b[0m\u001b[0m\n\u001b[0;32m-> 1361\u001b[0;31m             \u001b[0;32mreturn\u001b[0m \u001b[0mfunc\u001b[0m\u001b[0;34m(\u001b[0m\u001b[0max\u001b[0m\u001b[0;34m,\u001b[0m \u001b[0;34m*\u001b[0m\u001b[0mmap\u001b[0m\u001b[0;34m(\u001b[0m\u001b[0msanitize_sequence\u001b[0m\u001b[0;34m,\u001b[0m \u001b[0margs\u001b[0m\u001b[0;34m)\u001b[0m\u001b[0;34m,\u001b[0m \u001b[0;34m**\u001b[0m\u001b[0mkwargs\u001b[0m\u001b[0;34m)\u001b[0m\u001b[0;34m\u001b[0m\u001b[0;34m\u001b[0m\u001b[0m\n\u001b[0m\u001b[1;32m   1362\u001b[0m \u001b[0;34m\u001b[0m\u001b[0m\n\u001b[1;32m   1363\u001b[0m         \u001b[0mbound\u001b[0m \u001b[0;34m=\u001b[0m \u001b[0mnew_sig\u001b[0m\u001b[0;34m.\u001b[0m\u001b[0mbind\u001b[0m\u001b[0;34m(\u001b[0m\u001b[0max\u001b[0m\u001b[0;34m,\u001b[0m \u001b[0;34m*\u001b[0m\u001b[0margs\u001b[0m\u001b[0;34m,\u001b[0m \u001b[0;34m**\u001b[0m\u001b[0mkwargs\u001b[0m\u001b[0;34m)\u001b[0m\u001b[0;34m\u001b[0m\u001b[0;34m\u001b[0m\u001b[0m\n",
      "\u001b[0;32m~/miniconda3/envs/notebook/lib/python3.9/site-packages/matplotlib/axes/_axes.py\u001b[0m in \u001b[0;36mpcolormesh\u001b[0;34m(self, alpha, norm, cmap, vmin, vmax, shading, antialiased, *args, **kwargs)\u001b[0m\n\u001b[1;32m   6181\u001b[0m         \u001b[0mkwargs\u001b[0m\u001b[0;34m.\u001b[0m\u001b[0msetdefault\u001b[0m\u001b[0;34m(\u001b[0m\u001b[0;34m'edgecolors'\u001b[0m\u001b[0;34m,\u001b[0m \u001b[0;34m'none'\u001b[0m\u001b[0;34m)\u001b[0m\u001b[0;34m\u001b[0m\u001b[0;34m\u001b[0m\u001b[0m\n\u001b[1;32m   6182\u001b[0m \u001b[0;34m\u001b[0m\u001b[0m\n\u001b[0;32m-> 6183\u001b[0;31m         X, Y, C, shading = self._pcolorargs('pcolormesh', *args,\n\u001b[0m\u001b[1;32m   6184\u001b[0m                                             shading=shading, kwargs=kwargs)\n\u001b[1;32m   6185\u001b[0m         \u001b[0mNy\u001b[0m\u001b[0;34m,\u001b[0m \u001b[0mNx\u001b[0m \u001b[0;34m=\u001b[0m \u001b[0mX\u001b[0m\u001b[0;34m.\u001b[0m\u001b[0mshape\u001b[0m\u001b[0;34m\u001b[0m\u001b[0;34m\u001b[0m\u001b[0m\n",
      "\u001b[0;32m~/miniconda3/envs/notebook/lib/python3.9/site-packages/matplotlib/axes/_axes.py\u001b[0m in \u001b[0;36m_pcolorargs\u001b[0;34m(self, funcname, shading, *args, **kwargs)\u001b[0m\n\u001b[1;32m   5640\u001b[0m         \u001b[0;32mif\u001b[0m \u001b[0mlen\u001b[0m\u001b[0;34m(\u001b[0m\u001b[0margs\u001b[0m\u001b[0;34m)\u001b[0m \u001b[0;34m==\u001b[0m \u001b[0;36m1\u001b[0m\u001b[0;34m:\u001b[0m\u001b[0;34m\u001b[0m\u001b[0;34m\u001b[0m\u001b[0m\n\u001b[1;32m   5641\u001b[0m             \u001b[0mC\u001b[0m \u001b[0;34m=\u001b[0m \u001b[0mnp\u001b[0m\u001b[0;34m.\u001b[0m\u001b[0masanyarray\u001b[0m\u001b[0;34m(\u001b[0m\u001b[0margs\u001b[0m\u001b[0;34m[\u001b[0m\u001b[0;36m0\u001b[0m\u001b[0;34m]\u001b[0m\u001b[0;34m)\u001b[0m\u001b[0;34m\u001b[0m\u001b[0;34m\u001b[0m\u001b[0m\n\u001b[0;32m-> 5642\u001b[0;31m             \u001b[0mnrows\u001b[0m\u001b[0;34m,\u001b[0m \u001b[0mncols\u001b[0m \u001b[0;34m=\u001b[0m \u001b[0mC\u001b[0m\u001b[0;34m.\u001b[0m\u001b[0mshape\u001b[0m\u001b[0;34m\u001b[0m\u001b[0;34m\u001b[0m\u001b[0m\n\u001b[0m\u001b[1;32m   5643\u001b[0m             \u001b[0;32mif\u001b[0m \u001b[0mshading\u001b[0m \u001b[0;32min\u001b[0m \u001b[0;34m[\u001b[0m\u001b[0;34m'gouraud'\u001b[0m\u001b[0;34m,\u001b[0m \u001b[0;34m'nearest'\u001b[0m\u001b[0;34m]\u001b[0m\u001b[0;34m:\u001b[0m\u001b[0;34m\u001b[0m\u001b[0;34m\u001b[0m\u001b[0m\n\u001b[1;32m   5644\u001b[0m                 \u001b[0mX\u001b[0m\u001b[0;34m,\u001b[0m \u001b[0mY\u001b[0m \u001b[0;34m=\u001b[0m \u001b[0mnp\u001b[0m\u001b[0;34m.\u001b[0m\u001b[0mmeshgrid\u001b[0m\u001b[0;34m(\u001b[0m\u001b[0mnp\u001b[0m\u001b[0;34m.\u001b[0m\u001b[0marange\u001b[0m\u001b[0;34m(\u001b[0m\u001b[0mncols\u001b[0m\u001b[0;34m)\u001b[0m\u001b[0;34m,\u001b[0m \u001b[0mnp\u001b[0m\u001b[0;34m.\u001b[0m\u001b[0marange\u001b[0m\u001b[0;34m(\u001b[0m\u001b[0mnrows\u001b[0m\u001b[0;34m)\u001b[0m\u001b[0;34m)\u001b[0m\u001b[0;34m\u001b[0m\u001b[0;34m\u001b[0m\u001b[0m\n",
      "\u001b[0;31mValueError\u001b[0m: too many values to unpack (expected 2)"
     ]
    },
    {
     "data": {
      "image/png": "[encoded data removed]",
      "text/plain": [
       "<Figure size 432x288 with 1 Axes>"
      ]
     },
     "metadata": {
      "needs_background": "light"
     },
     "output_type": "display_data"
    }
   ],
   "source": [
    "plt.pcolormesh(ddz)"
   ]
  },
  {
   "cell_type": "code",
   "execution_count": null,
   "id": "e64cd505",
   "metadata": {},
   "outputs": [],
   "source": []
  }
 ],
 "metadata": {
  "kernelspec": {
   "display_name": "Python 3 (ipykernel)",
   "language": "python",
   "name": "python3"
  },
  "language_info": {
   "codemirror_mode": {
    "name": "ipython",
    "version": 3
   },
   "file_extension": ".py",
   "mimetype": "text/x-python",
   "name": "python",
   "nbconvert_exporter": "python",
   "pygments_lexer": "ipython3",
   "version": "3.9.7"
  }
 },
 "nbformat": 4,
 "nbformat_minor": 5
}
