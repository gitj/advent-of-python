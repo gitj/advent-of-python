{
 "cells": [
  {
   "cell_type": "markdown",
   "id": "c1ed992a",
   "metadata": {},
   "source": [
    "# Introduction\n",
    "State notebook purpose here"
   ]
  },
  {
   "cell_type": "markdown",
   "id": "a3fde553",
   "metadata": {},
   "source": [
    "### Imports\n",
    "Import libraries and write settings here."
   ]
  },
  {
   "cell_type": "code",
   "execution_count": 1,
   "id": "614a602e",
   "metadata": {},
   "outputs": [
    {
     "name": "stderr",
     "output_type": "stream",
     "text": [
      "/tmp/ipykernel_92358/2426357776.py:4: TqdmExperimentalWarning: Using `tqdm.autonotebook.tqdm` in notebook mode. Use `tqdm.tqdm` instead to force console mode (e.g. in jupyter console)\n",
      "  from tqdm.autonotebook import tqdm\n"
     ]
    }
   ],
   "source": [
    "# Data manipulation\n",
    "import pandas as pd\n",
    "import numpy as np\n",
    "from tqdm.autonotebook import tqdm\n",
    "\n",
    "from IPython import get_ipython\n",
    "ipython = get_ipython()\n",
    "\n",
    "# Options for pandas\n",
    "pd.options.display.max_columns = 50\n",
    "pd.options.display.max_rows = 30\n",
    "\n",
    "# autoreload extension\n",
    "if 'autoreload' not in ipython.extension_manager.loaded:\n",
    "    %load_ext autoreload\n",
    "\n",
    "%autoreload 2\n",
    "\n",
    "# Visualizations\n",
    "#import plotly.plotly as py\n",
    "#import plotly.graph_objs as go\n",
    "#from plotly.offline import iplot, init_notebook_mode\n",
    "#init_notebook_mode(connected=True)\n",
    "\n",
    "#import cufflinks as cf\n",
    "#cf.go_offline(connected=True)\n",
    "#cf.set_config_file(theme='white')\n"
   ]
  },
  {
   "cell_type": "markdown",
   "id": "d893d43b",
   "metadata": {},
   "source": [
    "# Analysis/Modeling\n",
    "Do work here"
   ]
  },
  {
   "cell_type": "markdown",
   "id": "1a989d52",
   "metadata": {},
   "source": [
    "# Results\n",
    "Show graphs and stats here"
   ]
  },
  {
   "cell_type": "markdown",
   "id": "f0db3c11",
   "metadata": {},
   "source": [
    "# Conclusions and Next Steps\n",
    "Summarize findings here"
   ]
  },
  {
   "cell_type": "code",
   "execution_count": 2,
   "id": "795b221d",
   "metadata": {},
   "outputs": [],
   "source": [
    "with open('input.txt','r') as fh:\n",
    "    lines = fh.readlines()\n",
    "\n",
    "data = np.array([[int(c) for c in line if c in ['0','1']] for line in lines])"
   ]
  },
  {
   "cell_type": "code",
   "execution_count": 3,
   "id": "e2a345bb",
   "metadata": {},
   "outputs": [
    {
     "data": {
      "text/plain": [
       "(1000, 12)"
      ]
     },
     "execution_count": 3,
     "metadata": {},
     "output_type": "execute_result"
    }
   ],
   "source": [
    "data.shape"
   ]
  },
  {
   "cell_type": "code",
   "execution_count": 4,
   "id": "0a78ec1e",
   "metadata": {},
   "outputs": [],
   "source": [
    "gamma_bits = data.sum(0)>500"
   ]
  },
  {
   "cell_type": "code",
   "execution_count": 5,
   "id": "85c70d5c",
   "metadata": {},
   "outputs": [
    {
     "data": {
      "text/plain": [
       "array([False,  True, False,  True,  True,  True, False,  True, False,\n",
       "       False,  True,  True])"
      ]
     },
     "execution_count": 5,
     "metadata": {},
     "output_type": "execute_result"
    }
   ],
   "source": [
    "gamma_bits"
   ]
  },
  {
   "cell_type": "code",
   "execution_count": 6,
   "id": "86d8eb02",
   "metadata": {},
   "outputs": [],
   "source": [
    "gamma = (gamma_bits.astype('int')*(2**np.arange(data.shape[-1])[::-1])).sum()"
   ]
  },
  {
   "cell_type": "code",
   "execution_count": 7,
   "id": "00805efd",
   "metadata": {},
   "outputs": [
    {
     "data": {
      "text/plain": [
       "1491"
      ]
     },
     "execution_count": 7,
     "metadata": {},
     "output_type": "execute_result"
    }
   ],
   "source": [
    "gamma"
   ]
  },
  {
   "cell_type": "code",
   "execution_count": 8,
   "id": "e9180a97",
   "metadata": {},
   "outputs": [],
   "source": [
    "epsilon = (~gamma) & (2**12-1)"
   ]
  },
  {
   "cell_type": "code",
   "execution_count": 9,
   "id": "a5c22e97",
   "metadata": {},
   "outputs": [
    {
     "data": {
      "text/plain": [
       "2604"
      ]
     },
     "execution_count": 9,
     "metadata": {},
     "output_type": "execute_result"
    }
   ],
   "source": [
    "epsilon"
   ]
  },
  {
   "cell_type": "code",
   "execution_count": 10,
   "id": "c421b90e",
   "metadata": {},
   "outputs": [
    {
     "name": "stdout",
     "output_type": "stream",
     "text": [
      "010111010011\n",
      "101000101100\n"
     ]
    }
   ],
   "source": [
    "print(f'{gamma:012b}\\n{epsilon:012b}')"
   ]
  },
  {
   "cell_type": "code",
   "execution_count": 11,
   "id": "6f349bdf",
   "metadata": {},
   "outputs": [
    {
     "data": {
      "text/plain": [
       "3882564"
      ]
     },
     "execution_count": 11,
     "metadata": {},
     "output_type": "execute_result"
    }
   ],
   "source": [
    "gamma*epsilon"
   ]
  },
  {
   "cell_type": "code",
   "execution_count": 12,
   "id": "cf21b78d",
   "metadata": {},
   "outputs": [],
   "source": [
    "def find_remaining_values(data,to_keep=1):\n",
    "    remaining = data\n",
    "    for pos in range(data.shape[-1]):\n",
    "        count = remaining[:,pos].sum()\n",
    "        print(pos,count,count*2,remaining.shape[0])\n",
    "        if 2*count > remaining.shape[0]:\n",
    "            # 1's are more common so keep 0\n",
    "            print(pos,\"keeping 0's\")\n",
    "            mask = remaining[:,pos]==to_keep\n",
    "        elif 2*count == remaining.shape[0]:\n",
    "            #equally common so keep 0\n",
    "            print(pos,\"equal, keeping 0's\")\n",
    "            print(remaining)\n",
    "            mask = remaining[:,pos]==to_keep\n",
    "        else:\n",
    "            # 0's are more common so keep 1\n",
    "            print(pos,\"keeping 1's\")\n",
    "            mask = remaining[:,pos]==(1-to_keep)\n",
    "        if mask.sum() == 0:\n",
    "            break\n",
    "        remaining = remaining[mask,:]\n",
    "    return remaining"
   ]
  },
  {
   "cell_type": "code",
   "execution_count": 13,
   "id": "17111a2d",
   "metadata": {},
   "outputs": [],
   "source": [
    "def bits_to_decimal(bits):\n",
    "    return (bits.astype('int')*(2**np.arange(bits.shape[-1])[::-1])).sum()"
   ]
  },
  {
   "cell_type": "code",
   "execution_count": 14,
   "id": "88aaf7a9",
   "metadata": {},
   "outputs": [
    {
     "name": "stdout",
     "output_type": "stream",
     "text": [
      "0 487 974 1000\n",
      "0 keeping 1's\n",
      "1 267 534 513\n",
      "1 keeping 0's\n",
      "2 129 258 267\n",
      "2 keeping 1's\n",
      "3 71 142 138\n",
      "3 keeping 0's\n",
      "4 32 64 71\n",
      "4 keeping 1's\n",
      "5 19 38 39\n",
      "5 keeping 1's\n",
      "6 8 16 20\n",
      "6 keeping 1's\n",
      "7 6 12 12\n",
      "7 equal, keeping 0's\n",
      "[[0 1 0 1 0 0 0 0 0 1 1 1]\n",
      " [0 1 0 1 0 0 0 0 1 1 1 1]\n",
      " [0 1 0 1 0 0 0 0 1 0 0 1]\n",
      " [0 1 0 1 0 0 0 0 1 0 1 0]\n",
      " [0 1 0 1 0 0 0 1 0 1 0 1]\n",
      " [0 1 0 1 0 0 0 1 0 0 0 0]\n",
      " [0 1 0 1 0 0 0 1 1 0 1 1]\n",
      " [0 1 0 1 0 0 0 0 1 1 1 0]\n",
      " [0 1 0 1 0 0 0 1 1 0 0 0]\n",
      " [0 1 0 1 0 0 0 1 1 0 0 1]\n",
      " [0 1 0 1 0 0 0 1 0 0 1 0]\n",
      " [0 1 0 1 0 0 0 0 0 0 1 1]]\n",
      "8 3 6 6\n",
      "8 equal, keeping 0's\n",
      "[[0 1 0 1 0 0 0 1 0 1 0 1]\n",
      " [0 1 0 1 0 0 0 1 0 0 0 0]\n",
      " [0 1 0 1 0 0 0 1 1 0 1 1]\n",
      " [0 1 0 1 0 0 0 1 1 0 0 0]\n",
      " [0 1 0 1 0 0 0 1 1 0 0 1]\n",
      " [0 1 0 1 0 0 0 1 0 0 1 0]]\n",
      "9 0 0 3\n",
      "9 keeping 1's\n",
      "10 1 2 3\n",
      "10 keeping 1's\n",
      "11 1 2 2\n",
      "11 equal, keeping 0's\n",
      "[[0 1 0 1 0 0 0 1 1 0 0 0]\n",
      " [0 1 0 1 0 0 0 1 1 0 0 1]]\n"
     ]
    }
   ],
   "source": [
    "oxygen_bits = find_remaining_values(data)"
   ]
  },
  {
   "cell_type": "code",
   "execution_count": 15,
   "id": "4b9c1841",
   "metadata": {},
   "outputs": [],
   "source": [
    "oxygen = bits_to_decimal(oxygen_bits)"
   ]
  },
  {
   "cell_type": "code",
   "execution_count": 16,
   "id": "87686b26",
   "metadata": {},
   "outputs": [
    {
     "data": {
      "text/plain": [
       "1305"
      ]
     },
     "execution_count": 16,
     "metadata": {},
     "output_type": "execute_result"
    }
   ],
   "source": [
    "oxygen"
   ]
  },
  {
   "cell_type": "code",
   "execution_count": null,
   "id": "5f613209",
   "metadata": {},
   "outputs": [],
   "source": [
    "\n"
   ]
  },
  {
   "cell_type": "code",
   "execution_count": 17,
   "id": "7cbcf3f5",
   "metadata": {},
   "outputs": [
    {
     "name": "stdout",
     "output_type": "stream",
     "text": [
      "0 487 974 1000\n",
      "0 keeping 1's\n",
      "1 261 522 487\n",
      "1 keeping 0's\n",
      "2 104 208 226\n",
      "2 keeping 1's\n",
      "3 56 112 104\n",
      "3 keeping 0's\n",
      "4 27 54 48\n",
      "4 keeping 0's\n",
      "5 11 22 21\n",
      "5 keeping 0's\n",
      "6 4 8 10\n",
      "6 keeping 1's\n",
      "7 2 4 4\n",
      "7 equal, keeping 0's\n",
      "[[1 0 1 0 0 0 1 1 0 0 1 1]\n",
      " [1 0 1 0 0 0 1 1 0 1 1 1]\n",
      " [1 0 1 0 0 0 1 0 0 0 1 0]\n",
      " [1 0 1 0 0 0 1 0 1 0 0 1]]\n",
      "8 1 2 2\n",
      "8 equal, keeping 0's\n",
      "[[1 0 1 0 0 0 1 0 0 0 1 0]\n",
      " [1 0 1 0 0 0 1 0 1 0 0 1]]\n",
      "9 0 0 1\n",
      "9 keeping 1's\n"
     ]
    }
   ],
   "source": [
    "co2_bits = find_remaining_values(data,to_keep=0)\n",
    "co2 = bits_to_decimal(co2_bits)"
   ]
  },
  {
   "cell_type": "code",
   "execution_count": 18,
   "id": "978c05ed",
   "metadata": {},
   "outputs": [
    {
     "data": {
      "text/plain": [
       "array([[0, 1, 0, 1, 0, 0, 0, 1, 1, 0, 0, 1]])"
      ]
     },
     "execution_count": 18,
     "metadata": {},
     "output_type": "execute_result"
    }
   ],
   "source": [
    "oxygen_bits"
   ]
  },
  {
   "cell_type": "code",
   "execution_count": 19,
   "id": "a6a3eb6c",
   "metadata": {},
   "outputs": [
    {
     "data": {
      "text/plain": [
       "array([[1, 0, 1, 0, 0, 0, 1, 0, 0, 0, 1, 0]])"
      ]
     },
     "execution_count": 19,
     "metadata": {},
     "output_type": "execute_result"
    }
   ],
   "source": [
    "co2_bits"
   ]
  },
  {
   "cell_type": "code",
   "execution_count": 20,
   "id": "0106c819",
   "metadata": {},
   "outputs": [
    {
     "data": {
      "text/plain": [
       "2594"
      ]
     },
     "execution_count": 20,
     "metadata": {},
     "output_type": "execute_result"
    }
   ],
   "source": [
    "co2"
   ]
  },
  {
   "cell_type": "code",
   "execution_count": 21,
   "id": "355e9f4a",
   "metadata": {},
   "outputs": [
    {
     "data": {
      "text/plain": [
       "3385170"
      ]
     },
     "execution_count": 21,
     "metadata": {},
     "output_type": "execute_result"
    }
   ],
   "source": [
    "oxygen*co2"
   ]
  },
  {
   "cell_type": "code",
   "execution_count": null,
   "id": "636c32c1",
   "metadata": {},
   "outputs": [],
   "source": []
  }
 ],
 "metadata": {
  "kernelspec": {
   "display_name": "Python 3 (ipykernel)",
   "language": "python",
   "name": "python3"
  },
  "language_info": {
   "codemirror_mode": {
    "name": "ipython",
    "version": 3
   },
   "file_extension": ".py",
   "mimetype": "text/x-python",
   "name": "python",
   "nbconvert_exporter": "python",
   "pygments_lexer": "ipython3",
   "version": "3.9.7"
  }
 },
 "nbformat": 4,
 "nbformat_minor": 5
}
