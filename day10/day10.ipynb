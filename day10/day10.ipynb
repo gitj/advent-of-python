{
 "cells": [
  {
   "cell_type": "markdown",
   "id": "39520c81",
   "metadata": {},
   "source": [
    "# Introduction\n",
    "State notebook purpose here"
   ]
  },
  {
   "cell_type": "markdown",
   "id": "0ab2039c",
   "metadata": {},
   "source": [
    "### Imports\n",
    "Import libraries and write settings here."
   ]
  },
  {
   "cell_type": "code",
   "execution_count": 1,
   "id": "4c7f7ca4",
   "metadata": {},
   "outputs": [
    {
     "name": "stderr",
     "output_type": "stream",
     "text": [
      "/tmp/ipykernel_120979/2426357776.py:4: TqdmExperimentalWarning: Using `tqdm.autonotebook.tqdm` in notebook mode. Use `tqdm.tqdm` instead to force console mode (e.g. in jupyter console)\n",
      "  from tqdm.autonotebook import tqdm\n"
     ]
    }
   ],
   "source": [
    "# Data manipulation\n",
    "import pandas as pd\n",
    "import numpy as np\n",
    "from tqdm.autonotebook import tqdm\n",
    "\n",
    "from IPython import get_ipython\n",
    "ipython = get_ipython()\n",
    "\n",
    "# Options for pandas\n",
    "pd.options.display.max_columns = 50\n",
    "pd.options.display.max_rows = 30\n",
    "\n",
    "# autoreload extension\n",
    "if 'autoreload' not in ipython.extension_manager.loaded:\n",
    "    %load_ext autoreload\n",
    "\n",
    "%autoreload 2\n",
    "\n",
    "# Visualizations\n",
    "#import plotly.plotly as py\n",
    "#import plotly.graph_objs as go\n",
    "#from plotly.offline import iplot, init_notebook_mode\n",
    "#init_notebook_mode(connected=True)\n",
    "\n",
    "#import cufflinks as cf\n",
    "#cf.go_offline(connected=True)\n",
    "#cf.set_config_file(theme='white')\n"
   ]
  },
  {
   "cell_type": "markdown",
   "id": "55e461cd",
   "metadata": {},
   "source": [
    "# Analysis/Modeling\n",
    "Do work here"
   ]
  },
  {
   "cell_type": "markdown",
   "id": "5584891e",
   "metadata": {},
   "source": [
    "# Results\n",
    "Show graphs and stats here"
   ]
  },
  {
   "cell_type": "markdown",
   "id": "8522da61",
   "metadata": {},
   "source": [
    "# Conclusions and Next Steps\n",
    "Summarize findings here"
   ]
  },
  {
   "cell_type": "code",
   "execution_count": 2,
   "id": "f374ca36",
   "metadata": {},
   "outputs": [],
   "source": [
    "with open('input.txt','r') as fh:\n",
    "    lines = fh.readlines()"
   ]
  },
  {
   "cell_type": "code",
   "execution_count": 3,
   "id": "0f9682e3",
   "metadata": {},
   "outputs": [
    {
     "data": {
      "text/plain": [
       "'(({({({(({{<{{()<>}}>}}([<[(<>{})(()()))[[{}[]]{<>{}}]>(<(<>[])<[]()>><[{}[]]([]<>)>)]{{({{}[]}{{}{}})}})\\n'"
      ]
     },
     "execution_count": 3,
     "metadata": {},
     "output_type": "execute_result"
    }
   ],
   "source": [
    "lines[0]"
   ]
  },
  {
   "cell_type": "code",
   "execution_count": 4,
   "id": "4e39d873",
   "metadata": {},
   "outputs": [],
   "source": [
    "from queue import LifoQueue"
   ]
  },
  {
   "cell_type": "code",
   "execution_count": 12,
   "id": "a672af7b",
   "metadata": {},
   "outputs": [],
   "source": [
    "openers = set('({[<')\n",
    "pairs = {'{':'}',\n",
    "        '(':')',\n",
    "        '[':']',\n",
    "        '<':'>'}\n",
    "points = {'}':1197,\n",
    "        ')':3,\n",
    "        ']':57,\n",
    "        '>':25137}\n",
    "score = 0\n",
    "for line in lines:\n",
    "    line = line.strip()\n",
    "    q = LifoQueue()\n",
    "\n",
    "    for c in line:\n",
    "        if c in openers:\n",
    "            q.put(c)\n",
    "            continue\n",
    "        last = q.get()\n",
    "        if pairs[last] == c:\n",
    "            continue\n",
    "        else:\n",
    "            #print(f\"expected {pairs[last]} but found {c}\")\n",
    "            score += points[c]"
   ]
  },
  {
   "cell_type": "code",
   "execution_count": 11,
   "id": "19c63ee9",
   "metadata": {},
   "outputs": [
    {
     "data": {
      "text/plain": [
       "389589"
      ]
     },
     "execution_count": 11,
     "metadata": {},
     "output_type": "execute_result"
    }
   ],
   "source": [
    "score"
   ]
  },
  {
   "cell_type": "code",
   "execution_count": 31,
   "id": "6afbd8ce",
   "metadata": {},
   "outputs": [],
   "source": [
    "openers = set('({[<')\n",
    "pairs = {'{':'}',\n",
    "        '(':')',\n",
    "        '[':']',\n",
    "        '<':'>'}\n",
    "points = {'}':3,\n",
    "        ')':1,\n",
    "        ']':2,\n",
    "        '>':4}\n",
    "scores = []\n",
    "for line in lines:\n",
    "    line = line.strip()\n",
    "    q = LifoQueue()\n",
    "\n",
    "    corrupt = False\n",
    "    for c in line:\n",
    "        if c in openers:\n",
    "            q.put(c)\n",
    "            continue\n",
    "        last = q.get()\n",
    "        if pairs[last] == c:\n",
    "            continue\n",
    "        else:\n",
    "#            print(f\"expected {pairs[last]} but found {c}\")\n",
    "            #score += points[c]\n",
    "            corrupt = True\n",
    "            break # now skip corrupt lines\n",
    "    if corrupt:\n",
    "#        print(\"corrupt\")\n",
    "        continue # continue from corrupt line\n",
    "    else:\n",
    "        #print(line,list(q))\n",
    "        score = 0\n",
    "        while not q.empty():\n",
    "            score = score*5 + points[pairs[q.get()]]\n",
    "        scores.append(score)"
   ]
  },
  {
   "cell_type": "code",
   "execution_count": 33,
   "id": "d658fd01",
   "metadata": {},
   "outputs": [],
   "source": [
    "scores.sort()"
   ]
  },
  {
   "cell_type": "code",
   "execution_count": 37,
   "id": "13fb7097",
   "metadata": {},
   "outputs": [
    {
     "data": {
      "text/plain": [
       "25"
      ]
     },
     "execution_count": 37,
     "metadata": {},
     "output_type": "execute_result"
    }
   ],
   "source": [
    "len(scores[:len(scores)//2])"
   ]
  },
  {
   "cell_type": "code",
   "execution_count": 38,
   "id": "378f61e5",
   "metadata": {},
   "outputs": [
    {
     "data": {
      "text/plain": [
       "1190420163"
      ]
     },
     "execution_count": 38,
     "metadata": {},
     "output_type": "execute_result"
    }
   ],
   "source": [
    "scores[len(scores)//2]"
   ]
  },
  {
   "cell_type": "code",
   "execution_count": 28,
   "id": "2d40dc08",
   "metadata": {},
   "outputs": [
    {
     "data": {
      "text/plain": [
       "'[{(<(<<([[[{(([]{})<(){}>)<{<>}(()[])>}]]{[([(()[])[[][]]]<((){})((){})>)({{{}[]}<{}>})]}]){{[[<<{<>}(<'"
      ]
     },
     "execution_count": 28,
     "metadata": {},
     "output_type": "execute_result"
    }
   ],
   "source": [
    "line"
   ]
  },
  {
   "cell_type": "code",
   "execution_count": 15,
   "id": "f92c0af6",
   "metadata": {},
   "outputs": [
    {
     "data": {
      "text/plain": [
       "<queue.LifoQueue at 0x7f8900f0ed00>"
      ]
     },
     "execution_count": 15,
     "metadata": {},
     "output_type": "execute_result"
    }
   ],
   "source": [
    "q"
   ]
  },
  {
   "cell_type": "code",
   "execution_count": 16,
   "id": "0e6a1eaa",
   "metadata": {},
   "outputs": [
    {
     "data": {
      "text/plain": [
       "'<'"
      ]
     },
     "execution_count": 16,
     "metadata": {},
     "output_type": "execute_result"
    }
   ],
   "source": [
    "q.get()"
   ]
  },
  {
   "cell_type": "code",
   "execution_count": 17,
   "id": "48823e51",
   "metadata": {},
   "outputs": [],
   "source": [
    "b = []\n",
    "while not q.empty():\n",
    "    b.append(q.get())"
   ]
  },
  {
   "cell_type": "code",
   "execution_count": 18,
   "id": "f1a3f90a",
   "metadata": {},
   "outputs": [
    {
     "data": {
      "text/plain": [
       "['[', '(', '(', '(', '{', '(', '{', '(', '{', '(', '(']"
      ]
     },
     "execution_count": 18,
     "metadata": {},
     "output_type": "execute_result"
    }
   ],
   "source": [
    "b"
   ]
  },
  {
   "cell_type": "code",
   "execution_count": null,
   "id": "a5225ef5",
   "metadata": {},
   "outputs": [],
   "source": []
  }
 ],
 "metadata": {
  "kernelspec": {
   "display_name": "Python 3 (ipykernel)",
   "language": "python",
   "name": "python3"
  },
  "language_info": {
   "codemirror_mode": {
    "name": "ipython",
    "version": 3
   },
   "file_extension": ".py",
   "mimetype": "text/x-python",
   "name": "python",
   "nbconvert_exporter": "python",
   "pygments_lexer": "ipython3",
   "version": "3.9.7"
  }
 },
 "nbformat": 4,
 "nbformat_minor": 5
}
