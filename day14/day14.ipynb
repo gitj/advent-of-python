{
 "cells": [
  {
   "cell_type": "markdown",
   "id": "f52acfda",
   "metadata": {},
   "source": [
    "# Introduction\n",
    "State notebook purpose here"
   ]
  },
  {
   "cell_type": "markdown",
   "id": "4dc67a5c",
   "metadata": {},
   "source": [
    "### Imports\n",
    "Import libraries and write settings here."
   ]
  },
  {
   "cell_type": "code",
   "execution_count": 1,
   "id": "c539c943",
   "metadata": {},
   "outputs": [
    {
     "name": "stderr",
     "output_type": "stream",
     "text": [
      "/tmp/ipykernel_126122/2426357776.py:4: TqdmExperimentalWarning: Using `tqdm.autonotebook.tqdm` in notebook mode. Use `tqdm.tqdm` instead to force console mode (e.g. in jupyter console)\n",
      "  from tqdm.autonotebook import tqdm\n"
     ]
    }
   ],
   "source": [
    "# Data manipulation\n",
    "import pandas as pd\n",
    "import numpy as np\n",
    "from tqdm.autonotebook import tqdm\n",
    "\n",
    "from IPython import get_ipython\n",
    "ipython = get_ipython()\n",
    "\n",
    "# Options for pandas\n",
    "pd.options.display.max_columns = 50\n",
    "pd.options.display.max_rows = 30\n",
    "\n",
    "# autoreload extension\n",
    "if 'autoreload' not in ipython.extension_manager.loaded:\n",
    "    %load_ext autoreload\n",
    "\n",
    "%autoreload 2\n",
    "\n",
    "# Visualizations\n",
    "#import plotly.plotly as py\n",
    "#import plotly.graph_objs as go\n",
    "#from plotly.offline import iplot, init_notebook_mode\n",
    "#init_notebook_mode(connected=True)\n",
    "\n",
    "#import cufflinks as cf\n",
    "#cf.go_offline(connected=True)\n",
    "#cf.set_config_file(theme='white')\n"
   ]
  },
  {
   "cell_type": "markdown",
   "id": "4a9d00ca",
   "metadata": {},
   "source": [
    "# Analysis/Modeling\n",
    "Do work here"
   ]
  },
  {
   "cell_type": "markdown",
   "id": "42400537",
   "metadata": {},
   "source": [
    "# Results\n",
    "Show graphs and stats here"
   ]
  },
  {
   "cell_type": "markdown",
   "id": "5227b3c0",
   "metadata": {},
   "source": [
    "# Conclusions and Next Steps\n",
    "Summarize findings here"
   ]
  },
  {
   "cell_type": "code",
   "execution_count": 123,
   "id": "ff15856e",
   "metadata": {},
   "outputs": [],
   "source": [
    "lines = \"\"\"NNCB\n",
    "\n",
    "CH -> B\n",
    "HH -> N\n",
    "CB -> H\n",
    "NH -> C\n",
    "HB -> C\n",
    "HC -> B\n",
    "HN -> C\n",
    "NN -> C\n",
    "BH -> H\n",
    "NC -> B\n",
    "NB -> B\n",
    "BN -> B\n",
    "BB -> N\n",
    "BC -> B\n",
    "CC -> N\n",
    "CN -> C\"\"\".splitlines()"
   ]
  },
  {
   "cell_type": "code",
   "execution_count": 47,
   "id": "cdaf1db2",
   "metadata": {},
   "outputs": [],
   "source": [
    "with open('input.txt','r') as fh:\n",
    "    lines = fh.readlines()"
   ]
  },
  {
   "cell_type": "code",
   "execution_count": 48,
   "id": "3ac82fea",
   "metadata": {},
   "outputs": [
    {
     "data": {
      "text/plain": [
       "'OHFNNCKCVOBHSSHONBNF\\n'"
      ]
     },
     "execution_count": 48,
     "metadata": {},
     "output_type": "execute_result"
    }
   ],
   "source": [
    "lines[0]"
   ]
  },
  {
   "cell_type": "code",
   "execution_count": 49,
   "id": "5d078dc4",
   "metadata": {},
   "outputs": [
    {
     "data": {
      "text/plain": [
       "'SV -> O\\n'"
      ]
     },
     "execution_count": 49,
     "metadata": {},
     "output_type": "execute_result"
    }
   ],
   "source": [
    "lines[2]"
   ]
  },
  {
   "cell_type": "code",
   "execution_count": 124,
   "id": "93c8abaa",
   "metadata": {},
   "outputs": [],
   "source": [
    "seed = lines[0].strip()\n",
    "table = {}\n",
    "for line in lines[2:]:\n",
    "    a,b = line.strip().split(' -> ')\n",
    "    table[a] = ''.join([a[0],b,a[1]])"
   ]
  },
  {
   "cell_type": "code",
   "execution_count": 125,
   "id": "a3520acc",
   "metadata": {},
   "outputs": [],
   "source": [
    "def pairs(x):\n",
    "    return [x[a:a+2] for a in range(len(x)-1)]"
   ]
  },
  {
   "cell_type": "code",
   "execution_count": 52,
   "id": "f4eb3e29",
   "metadata": {},
   "outputs": [
    {
     "data": {
      "text/plain": [
       "['AB', 'BC', 'CD', 'DE', 'EF']"
      ]
     },
     "execution_count": 52,
     "metadata": {},
     "output_type": "execute_result"
    }
   ],
   "source": [
    "pairs('ABCDEF')"
   ]
  },
  {
   "cell_type": "code",
   "execution_count": 53,
   "id": "4878e9e9",
   "metadata": {},
   "outputs": [],
   "source": [
    "def polystep(x):\n",
    "    return ''.join([table[p][:-1] for p in pairs(x)])+x[-1]"
   ]
  },
  {
   "cell_type": "code",
   "execution_count": 55,
   "id": "bae7181e",
   "metadata": {},
   "outputs": [
    {
     "data": {
      "text/plain": [
       "'OSNKHVBVFBPSNOOSNHFFCNCCKFHNCKPVVSCKOVSKBHONHBHHSOVFSKFCHBFOOVSPNFVVBVFPNKHBF'"
      ]
     },
     "execution_count": 55,
     "metadata": {},
     "output_type": "execute_result"
    }
   ],
   "source": [
    "polystep(polystep(seed))"
   ]
  },
  {
   "cell_type": "code",
   "execution_count": 56,
   "id": "f0500faf",
   "metadata": {},
   "outputs": [],
   "source": [
    "polymer=seed\n",
    "for k in range(10):\n",
    "    polymer = polystep(polymer)"
   ]
  },
  {
   "cell_type": "code",
   "execution_count": 57,
   "id": "add7dc4c",
   "metadata": {},
   "outputs": [
    {
     "data": {
      "text/plain": [
       "19457"
      ]
     },
     "execution_count": 57,
     "metadata": {},
     "output_type": "execute_result"
    }
   ],
   "source": [
    "len(polymer)"
   ]
  },
  {
   "cell_type": "code",
   "execution_count": 58,
   "id": "2e7cd622",
   "metadata": {},
   "outputs": [],
   "source": [
    "from collections import Counter"
   ]
  },
  {
   "cell_type": "code",
   "execution_count": 59,
   "id": "dcd1c288",
   "metadata": {},
   "outputs": [],
   "source": [
    "c = Counter(polymer)\n",
    "most = max(list(c.values()))\n",
    "least = min(list(c.values()))"
   ]
  },
  {
   "cell_type": "code",
   "execution_count": 133,
   "id": "08973904",
   "metadata": {},
   "outputs": [
    {
     "data": {
      "text/plain": [
       "3296"
      ]
     },
     "execution_count": 133,
     "metadata": {},
     "output_type": "execute_result"
    }
   ],
   "source": [
    "most"
   ]
  },
  {
   "cell_type": "code",
   "execution_count": 134,
   "id": "cd3871e9",
   "metadata": {},
   "outputs": [
    {
     "data": {
      "text/plain": [
       "706"
      ]
     },
     "execution_count": 134,
     "metadata": {},
     "output_type": "execute_result"
    }
   ],
   "source": [
    "least"
   ]
  },
  {
   "cell_type": "code",
   "execution_count": 60,
   "id": "c1bbdc67",
   "metadata": {},
   "outputs": [
    {
     "data": {
      "text/plain": [
       "2590"
      ]
     },
     "execution_count": 60,
     "metadata": {},
     "output_type": "execute_result"
    }
   ],
   "source": [
    "most-least"
   ]
  },
  {
   "cell_type": "code",
   "execution_count": 76,
   "id": "fba5ac87",
   "metadata": {},
   "outputs": [
    {
     "data": {
      "text/plain": [
       "100"
      ]
     },
     "execution_count": 76,
     "metadata": {},
     "output_type": "execute_result"
    }
   ],
   "source": [
    "len(table)"
   ]
  },
  {
   "cell_type": "code",
   "execution_count": 79,
   "id": "446bd58d",
   "metadata": {},
   "outputs": [],
   "source": [
    "elements = list(set(''.join(table.keys())))"
   ]
  },
  {
   "cell_type": "code",
   "execution_count": 129,
   "id": "262a9f6c",
   "metadata": {},
   "outputs": [],
   "source": [
    "pairmap = dict([(k,[v[:2],v[1:]]) for (k,v) in table.items()])"
   ]
  },
  {
   "cell_type": "code",
   "execution_count": 127,
   "id": "513aacd0",
   "metadata": {},
   "outputs": [
    {
     "data": {
      "text/plain": [
       "[('BH', 'BH'), ('NB', 'NB')]"
      ]
     },
     "execution_count": 127,
     "metadata": {},
     "output_type": "execute_result"
    }
   ],
   "source": [
    "[(k,v) for (k,v) in pairmap.items() if k==v]"
   ]
  },
  {
   "cell_type": "code",
   "execution_count": 130,
   "id": "991e5225",
   "metadata": {},
   "outputs": [
    {
     "data": {
      "text/plain": [
       "{'CH': ['CB', 'BH'],\n",
       " 'HH': ['HN', 'NH'],\n",
       " 'CB': ['CH', 'HB'],\n",
       " 'NH': ['NC', 'CH'],\n",
       " 'HB': ['HC', 'CB'],\n",
       " 'HC': ['HB', 'BC'],\n",
       " 'HN': ['HC', 'CN'],\n",
       " 'NN': ['NC', 'CN'],\n",
       " 'BH': ['BH', 'HH'],\n",
       " 'NC': ['NB', 'BC'],\n",
       " 'NB': ['NB', 'BB'],\n",
       " 'BN': ['BB', 'BN'],\n",
       " 'BB': ['BN', 'NB'],\n",
       " 'BC': ['BB', 'BC'],\n",
       " 'CC': ['CN', 'NC'],\n",
       " 'CN': ['CC', 'CN']}"
      ]
     },
     "execution_count": 130,
     "metadata": {},
     "output_type": "execute_result"
    }
   ],
   "source": [
    "pairmap"
   ]
  },
  {
   "cell_type": "code",
   "execution_count": 87,
   "id": "bec8be30",
   "metadata": {},
   "outputs": [
    {
     "data": {
      "text/plain": [
       "'OK'"
      ]
     },
     "execution_count": 87,
     "metadata": {},
     "output_type": "execute_result"
    }
   ],
   "source": [
    "pairmap['OO']"
   ]
  },
  {
   "cell_type": "code",
   "execution_count": 88,
   "id": "97c67291",
   "metadata": {},
   "outputs": [
    {
     "data": {
      "text/plain": [
       "'KH'"
      ]
     },
     "execution_count": 88,
     "metadata": {},
     "output_type": "execute_result"
    }
   ],
   "source": [
    "pairmap['KK']"
   ]
  },
  {
   "cell_type": "code",
   "execution_count": 83,
   "id": "ad4a2768",
   "metadata": {},
   "outputs": [
    {
     "data": {
      "text/plain": [
       "'OK'"
      ]
     },
     "execution_count": 83,
     "metadata": {},
     "output_type": "execute_result"
    }
   ],
   "source": [
    "pairmap['OK']"
   ]
  },
  {
   "cell_type": "code",
   "execution_count": 80,
   "id": "cb171626",
   "metadata": {},
   "outputs": [],
   "source": [
    "for a in elements:\n",
    "    for b in elements:\n",
    "        if a+b not in table:\n",
    "            print(a,b)"
   ]
  },
  {
   "cell_type": "code",
   "execution_count": 98,
   "id": "8326863d",
   "metadata": {},
   "outputs": [],
   "source": [
    "pc = Counter(pairs(seed))"
   ]
  },
  {
   "cell_type": "code",
   "execution_count": 137,
   "id": "ead3eacf",
   "metadata": {},
   "outputs": [
    {
     "data": {
      "text/plain": [
       "'NNCB'"
      ]
     },
     "execution_count": 137,
     "metadata": {},
     "output_type": "execute_result"
    }
   ],
   "source": [
    "seed"
   ]
  },
  {
   "cell_type": "code",
   "execution_count": 150,
   "id": "de8e033c",
   "metadata": {},
   "outputs": [
    {
     "name": "stdout",
     "output_type": "stream",
     "text": [
      "NN NC CN 1\n",
      "NC 1\n",
      "CN 0\n",
      "zeroing NN\n",
      "NC NB BC 2\n",
      "NB 0\n",
      "BC 0\n",
      "zeroing NC\n",
      "CB CH HB 1\n",
      "CH 0\n",
      "HB 0\n",
      "zeroing CB\n"
     ]
    }
   ],
   "source": [
    "pc = Counter(pairs(seed))\n",
    "for k in range(1):\n",
    "    new_count = Counter()\n",
    "    for p in list(pc.keys()):\n",
    "        p1,p2 = pairmap[p]\n",
    "        this_count = pc[p]\n",
    "        print(p,p1,p2,this_count)\n",
    "        if p != p1:\n",
    "            new_count[p1] += this_count\n",
    "            print(p1,pc[p1])\n",
    "        if p != p2:\n",
    "            new_count[p2] += this_count\n",
    "            print(p2,pc[p2])\n",
    "        if p != p1 and p != p2:\n",
    "            new_count[p]=0\n",
    "            print(\"zeroing\",p)\n",
    "        pc[p] = 0\n",
    "        for k,v in new_count.items():\n",
    "            pc[k] = pc[k]+v"
   ]
  },
  {
   "cell_type": "code",
   "execution_count": 140,
   "id": "e45df1f2",
   "metadata": {},
   "outputs": [
    {
     "data": {
      "text/plain": [
       "['NN', 'NC', 'CB']"
      ]
     },
     "execution_count": 140,
     "metadata": {},
     "output_type": "execute_result"
    }
   ],
   "source": [
    "pairs(seed)"
   ]
  },
  {
   "cell_type": "code",
   "execution_count": 141,
   "id": "4c30ef03",
   "metadata": {},
   "outputs": [
    {
     "data": {
      "text/plain": [
       "'NCNBCHB'"
      ]
     },
     "execution_count": 141,
     "metadata": {},
     "output_type": "execute_result"
    }
   ],
   "source": [
    "polystep(seed)"
   ]
  },
  {
   "cell_type": "code",
   "execution_count": 151,
   "id": "9861b0fa",
   "metadata": {},
   "outputs": [
    {
     "data": {
      "text/plain": [
       "Counter({'NN': 0,\n",
       "         'NC': 0,\n",
       "         'CB': 0,\n",
       "         'CN': 3,\n",
       "         'NB': 4,\n",
       "         'BC': 4,\n",
       "         'CH': 1,\n",
       "         'HB': 1})"
      ]
     },
     "execution_count": 151,
     "metadata": {},
     "output_type": "execute_result"
    }
   ],
   "source": [
    "pc"
   ]
  },
  {
   "cell_type": "code",
   "execution_count": 121,
   "id": "6e22ce7f",
   "metadata": {},
   "outputs": [],
   "source": [
    "sc = Counter()\n",
    "for k,v in pc.items():\n",
    "    sc[k[0]]+=v"
   ]
  },
  {
   "cell_type": "code",
   "execution_count": 136,
   "id": "c12915cb",
   "metadata": {},
   "outputs": [
    {
     "data": {
      "text/plain": [
       "Counter({'NN': 0,\n",
       "         'NC': 6406,\n",
       "         'CB': 9387,\n",
       "         'CN': 6406,\n",
       "         'NB': 15937,\n",
       "         'BC': 6405,\n",
       "         'CH': 4370,\n",
       "         'HB': 6405,\n",
       "         'CC': 0,\n",
       "         'BB': 15937,\n",
       "         'BH': 0,\n",
       "         'HC': 4370,\n",
       "         'BN': 0,\n",
       "         'HH': 0,\n",
       "         'HN': 0,\n",
       "         'NH': 0})"
      ]
     },
     "execution_count": 136,
     "metadata": {},
     "output_type": "execute_result"
    }
   ],
   "source": [
    "pc"
   ]
  },
  {
   "cell_type": "code",
   "execution_count": 119,
   "id": "ff261742",
   "metadata": {},
   "outputs": [
    {
     "data": {
      "text/plain": [
       "Counter({'N': 2602742372469019546316557,\n",
       "         'C': 89073446672545980435378,\n",
       "         'B': 7700438643038550102412454,\n",
       "         'H': 23401573277708653023906})"
      ]
     },
     "execution_count": 119,
     "metadata": {},
     "output_type": "execute_result"
    }
   ],
   "source": [
    "sc"
   ]
  },
  {
   "cell_type": "code",
   "execution_count": 92,
   "id": "4f8c083c",
   "metadata": {},
   "outputs": [
    {
     "name": "stdout",
     "output_type": "stream",
     "text": [
      "KOF\n",
      "KPOOF\n",
      "KHPFOKOOF\n",
      "KFHSPNFOOKKPOKOOF\n",
      "KOFCHHSVPSNHFOOKOKKHKHPFOKKPOKOOF\n"
     ]
    }
   ],
   "source": [
    "polymer='KF'\n",
    "for k in range(5):\n",
    "    polymer = polystep(polymer)#[:3]\n",
    "    print(polymer)"
   ]
  },
  {
   "cell_type": "code",
   "execution_count": 66,
   "id": "f715404f",
   "metadata": {},
   "outputs": [
    {
     "data": {
      "text/plain": [
       "4194305"
      ]
     },
     "execution_count": 66,
     "metadata": {},
     "output_type": "execute_result"
    }
   ],
   "source": [
    "len(polymer)"
   ]
  },
  {
   "cell_type": "code",
   "execution_count": 67,
   "id": "a0844e41",
   "metadata": {},
   "outputs": [
    {
     "data": {
      "text/plain": [
       "Counter({'O': 396132,\n",
       "         'K': 499411,\n",
       "         'H': 406118,\n",
       "         'F': 736919,\n",
       "         'N': 158967,\n",
       "         'C': 397676,\n",
       "         'B': 322536,\n",
       "         'P': 411720,\n",
       "         'S': 280376,\n",
       "         'V': 584450})"
      ]
     },
     "execution_count": 67,
     "metadata": {},
     "output_type": "execute_result"
    }
   ],
   "source": [
    "Counter(polymer)"
   ]
  },
  {
   "cell_type": "code",
   "execution_count": null,
   "id": "bb155b46",
   "metadata": {},
   "outputs": [],
   "source": []
  }
 ],
 "metadata": {
  "kernelspec": {
   "display_name": "Python 3 (ipykernel)",
   "language": "python",
   "name": "python3"
  },
  "language_info": {
   "codemirror_mode": {
    "name": "ipython",
    "version": 3
   },
   "file_extension": ".py",
   "mimetype": "text/x-python",
   "name": "python",
   "nbconvert_exporter": "python",
   "pygments_lexer": "ipython3",
   "version": "3.9.7"
  }
 },
 "nbformat": 4,
 "nbformat_minor": 5
}
