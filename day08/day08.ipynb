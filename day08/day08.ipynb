{
 "cells": [
  {
   "cell_type": "markdown",
   "id": "72964a06",
   "metadata": {},
   "source": [
    "# Introduction\n",
    "State notebook purpose here"
   ]
  },
  {
   "cell_type": "markdown",
   "id": "767c3a48",
   "metadata": {},
   "source": [
    "### Imports\n",
    "Import libraries and write settings here."
   ]
  },
  {
   "cell_type": "code",
   "execution_count": 1,
   "id": "c505c97b",
   "metadata": {},
   "outputs": [
    {
     "name": "stderr",
     "output_type": "stream",
     "text": [
      "/tmp/ipykernel_116217/2426357776.py:4: TqdmExperimentalWarning: Using `tqdm.autonotebook.tqdm` in notebook mode. Use `tqdm.tqdm` instead to force console mode (e.g. in jupyter console)\n",
      "  from tqdm.autonotebook import tqdm\n"
     ]
    }
   ],
   "source": [
    "# Data manipulation\n",
    "import pandas as pd\n",
    "import numpy as np\n",
    "from tqdm.autonotebook import tqdm\n",
    "\n",
    "from IPython import get_ipython\n",
    "ipython = get_ipython()\n",
    "\n",
    "# Options for pandas\n",
    "pd.options.display.max_columns = 50\n",
    "pd.options.display.max_rows = 30\n",
    "\n",
    "# autoreload extension\n",
    "if 'autoreload' not in ipython.extension_manager.loaded:\n",
    "    %load_ext autoreload\n",
    "\n",
    "%autoreload 2\n",
    "\n",
    "# Visualizations\n",
    "#import plotly.plotly as py\n",
    "#import plotly.graph_objs as go\n",
    "#from plotly.offline import iplot, init_notebook_mode\n",
    "#init_notebook_mode(connected=True)\n",
    "\n",
    "#import cufflinks as cf\n",
    "#cf.go_offline(connected=True)\n",
    "#cf.set_config_file(theme='white')\n"
   ]
  },
  {
   "cell_type": "markdown",
   "id": "1d553769",
   "metadata": {},
   "source": [
    "# Analysis/Modeling\n",
    "Do work here"
   ]
  },
  {
   "cell_type": "markdown",
   "id": "7a02c329",
   "metadata": {},
   "source": [
    "# Results\n",
    "Show graphs and stats here"
   ]
  },
  {
   "cell_type": "markdown",
   "id": "9f40078c",
   "metadata": {},
   "source": [
    "# Conclusions and Next Steps\n",
    "Summarize findings here"
   ]
  },
  {
   "cell_type": "code",
   "execution_count": 5,
   "id": "13a1ae4b",
   "metadata": {},
   "outputs": [],
   "source": [
    "with open('input.txt','r') as fh:\n",
    "    lines = fh.readlines()"
   ]
  },
  {
   "cell_type": "code",
   "execution_count": 7,
   "id": "658aff44",
   "metadata": {},
   "outputs": [],
   "source": [
    "count = 0\n",
    "for line in lines:\n",
    "    first,second = line.split('|')\n",
    "    values = second.strip().split()\n",
    "    for val in values:\n",
    "        if len(val) in [2,3,4,7]:\n",
    "            count += 1"
   ]
  },
  {
   "cell_type": "code",
   "execution_count": 9,
   "id": "e2465d21",
   "metadata": {},
   "outputs": [
    {
     "data": {
      "text/plain": [
       "' ega dagebf gdfbae gbdeac\\n'"
      ]
     },
     "execution_count": 9,
     "metadata": {},
     "output_type": "execute_result"
    }
   ],
   "source": [
    "second"
   ]
  },
  {
   "cell_type": "code",
   "execution_count": 10,
   "id": "04faf713",
   "metadata": {},
   "outputs": [
    {
     "data": {
      "text/plain": [
       "'adgebc gea afcdg fgbade dbaec bcdfae cdfgaeb gcaed ge ecbg '"
      ]
     },
     "execution_count": 10,
     "metadata": {},
     "output_type": "execute_result"
    }
   ],
   "source": [
    "first"
   ]
  },
  {
   "cell_type": "code",
   "execution_count": 8,
   "id": "6e3f7582",
   "metadata": {},
   "outputs": [
    {
     "data": {
      "text/plain": [
       "390"
      ]
     },
     "execution_count": 8,
     "metadata": {},
     "output_type": "execute_result"
    }
   ],
   "source": [
    "count"
   ]
  },
  {
   "cell_type": "code",
   "execution_count": 11,
   "id": "7769da3f",
   "metadata": {},
   "outputs": [
    {
     "data": {
      "text/plain": [
       "['a', 'b', 'c', 'd', 'e', 'g']"
      ]
     },
     "execution_count": 11,
     "metadata": {},
     "output_type": "execute_result"
    }
   ],
   "source": [
    "sorted('adgebc')"
   ]
  },
  {
   "cell_type": "code",
   "execution_count": 7,
   "id": "81a2e927",
   "metadata": {},
   "outputs": [],
   "source": [
    "count = 0\n",
    "for line in lines:\n",
    "    first,second = line.split('|')\n",
    "    values = second.strip().split()\n",
    "    for val in values:\n",
    "        if len(val) in [2,3,4,7]:\n",
    "            count += 1"
   ]
  },
  {
   "cell_type": "code",
   "execution_count": 24,
   "id": "e7bc8cfe",
   "metadata": {},
   "outputs": [],
   "source": [
    "digits = [''.join(sorted(x)) for x in \"acedgfb cdfbe gcdfa fbcad dab cefabd cdfgeb eafb cagedb ab\".split()]"
   ]
  },
  {
   "cell_type": "code",
   "execution_count": 31,
   "id": "a1e67690",
   "metadata": {},
   "outputs": [],
   "source": [
    "def find_decoder(digits):\n",
    "    decoder = {}\n",
    "    known_length = {2:1, 3:7, 4:4, 7:8}\n",
    "    for digit in digits:\n",
    "        if len(digit) in known_length:\n",
    "            decoder[digit] = known_length[len(digit)]\n",
    "            continue\n",
    "    decoder.update({v:k for (k,v) in decoder.items()})\n",
    "    for digit in digits:\n",
    "        if len(digit) == 6:\n",
    "            one = decoder[1]\n",
    "            if len(set(digit)-set(one))==5:\n",
    "                decoder[digit]=6\n",
    "                continue\n",
    "            four = decoder[4]\n",
    "            if len(set(digit)-set(four))==2:\n",
    "                decoder[digit]=9\n",
    "                continue\n",
    "            decoder[digit]=0\n",
    "    decoder.update({v:k for (k,v) in decoder.items()})\n",
    "    for digit in digits:\n",
    "        if len(digit) == 5:\n",
    "            seven = decoder[7]\n",
    "            if len(set(digit)-set(seven))==2:\n",
    "                decoder[digit] = 3\n",
    "                continue\n",
    "            four = decoder[4]\n",
    "            if len(set(digit)-set(four))==2:\n",
    "                decoder[digit]=5\n",
    "                continue\n",
    "            decoder[digit]=2\n",
    "    return decoder"
   ]
  },
  {
   "cell_type": "code",
   "execution_count": 32,
   "id": "287c8a5e",
   "metadata": {},
   "outputs": [],
   "source": [
    "decoder = find_decoder(digits)"
   ]
  },
  {
   "cell_type": "code",
   "execution_count": 33,
   "id": "866a3789",
   "metadata": {},
   "outputs": [],
   "source": [
    "message = [''.join(sorted(x)) for x in \"cdfeb fcadb cdfeb cdbaf\".split()]"
   ]
  },
  {
   "cell_type": "code",
   "execution_count": 34,
   "id": "949d2fc3",
   "metadata": {},
   "outputs": [
    {
     "name": "stdout",
     "output_type": "stream",
     "text": [
      "bcdef 5\n",
      "abcdf 3\n",
      "bcdef 5\n",
      "abcdf 3\n"
     ]
    }
   ],
   "source": [
    "for digit in message:\n",
    "    print(digit,decoder[digit])"
   ]
  },
  {
   "cell_type": "code",
   "execution_count": 35,
   "id": "0a5ffba3",
   "metadata": {},
   "outputs": [
    {
     "data": {
      "text/plain": [
       "5353"
      ]
     },
     "execution_count": 35,
     "metadata": {},
     "output_type": "execute_result"
    }
   ],
   "source": [
    "sum([decoder[digit]*10**(3-k) for k,digit in enumerate(message)])"
   ]
  },
  {
   "cell_type": "code",
   "execution_count": 36,
   "id": "3b44f88f",
   "metadata": {},
   "outputs": [],
   "source": [
    "total = 0\n",
    "for line in lines:\n",
    "    digits,message = line.split('|')\n",
    "    digits = [''.join(sorted(x)) for x in digits.strip().split()]\n",
    "    message = [''.join(sorted(x)) for x in message.strip().split()]\n",
    "    decoder = find_decoder(digits)\n",
    "    value = sum([decoder[digit]*10**(3-k) for k,digit in enumerate(message)])\n",
    "    total += value"
   ]
  },
  {
   "cell_type": "code",
   "execution_count": null,
   "id": "ce1ea859",
   "metadata": {},
   "outputs": [],
   "source": []
  },
  {
   "cell_type": "code",
   "execution_count": 37,
   "id": "9edf2886",
   "metadata": {},
   "outputs": [
    {
     "data": {
      "text/plain": [
       "1011785"
      ]
     },
     "execution_count": 37,
     "metadata": {},
     "output_type": "execute_result"
    }
   ],
   "source": [
    "total"
   ]
  },
  {
   "cell_type": "code",
   "execution_count": 30,
   "id": "fe1ab0af",
   "metadata": {},
   "outputs": [
    {
     "data": {
      "text/plain": [
       "['fdgcea dgefa efabdg fdgcba dab baefc begd ebdfa db bafgdce | gfbcda cgfadb badcefg eacfgd\\n',\n",
       " 'eagfdb bafdec fdg edgca gf cdbafeg egfcdb bgaf aedfg defba | gfd edagcbf cdfebg gfedab\\n']"
      ]
     },
     "execution_count": 30,
     "metadata": {},
     "output_type": "execute_result"
    }
   ],
   "source": [
    "lines[:2]"
   ]
  },
  {
   "cell_type": "code",
   "execution_count": 18,
   "id": "5f382cfc",
   "metadata": {},
   "outputs": [
    {
     "data": {
      "text/plain": [
       "{'abcdefg': 8,\n",
       " 'abd': 7,\n",
       " 'abef': 4,\n",
       " 'ab': 1,\n",
       " 8: 'abcdefg',\n",
       " 7: 'abd',\n",
       " 4: 'abef',\n",
       " 1: 'ab',\n",
       " 'abcdef': 6,\n",
       " 'bcdefg': 0,\n",
       " 'abcdeg': 6,\n",
       " 6: 'abcdeg',\n",
       " 0: 'bcdefg',\n",
       " 'bcdef': 5,\n",
       " 'acdfg': 2,\n",
       " 'abcdf': 3}"
      ]
     },
     "execution_count": 18,
     "metadata": {},
     "output_type": "execute_result"
    }
   ],
   "source": [
    "decoder"
   ]
  },
  {
   "cell_type": "code",
   "execution_count": 16,
   "id": "5867be7b",
   "metadata": {},
   "outputs": [
    {
     "data": {
      "text/plain": [
       "{'d', 's'}"
      ]
     },
     "execution_count": 16,
     "metadata": {},
     "output_type": "execute_result"
    }
   ],
   "source": [
    "set('adas')-set('abcefg')"
   ]
  },
  {
   "cell_type": "code",
   "execution_count": 13,
   "id": "1658e798",
   "metadata": {},
   "outputs": [
    {
     "data": {
      "text/plain": [
       "['abcdefg',\n",
       " 'bcdef',\n",
       " 'acdfg',\n",
       " 'abcdf',\n",
       " 'abd',\n",
       " 'abcdef',\n",
       " 'bcdefg',\n",
       " 'abef',\n",
       " 'abcdeg',\n",
       " 'ab']"
      ]
     },
     "execution_count": 13,
     "metadata": {},
     "output_type": "execute_result"
    }
   ],
   "source": [
    "digits"
   ]
  },
  {
   "cell_type": "code",
   "execution_count": null,
   "id": "3266d833",
   "metadata": {},
   "outputs": [],
   "source": []
  }
 ],
 "metadata": {
  "kernelspec": {
   "display_name": "Python 3 (ipykernel)",
   "language": "python",
   "name": "python3"
  },
  "language_info": {
   "codemirror_mode": {
    "name": "ipython",
    "version": 3
   },
   "file_extension": ".py",
   "mimetype": "text/x-python",
   "name": "python",
   "nbconvert_exporter": "python",
   "pygments_lexer": "ipython3",
   "version": "3.9.7"
  }
 },
 "nbformat": 4,
 "nbformat_minor": 5
}
