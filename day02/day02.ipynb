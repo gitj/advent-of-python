{
 "cells": [
  {
   "cell_type": "markdown",
   "id": "c55c3f5f",
   "metadata": {},
   "source": [
    "# Introduction\n",
    "State notebook purpose here"
   ]
  },
  {
   "cell_type": "markdown",
   "id": "4c478fe2",
   "metadata": {},
   "source": [
    "### Imports\n",
    "Import libraries and write settings here."
   ]
  },
  {
   "cell_type": "code",
   "execution_count": 18,
   "id": "6c736e9e",
   "metadata": {},
   "outputs": [],
   "source": [
    "%matplotlib inline\n",
    "from matplotlib import pyplot as plt\n",
    "\n",
    "# Data manipulation\n",
    "import pandas as pd\n",
    "import numpy as np\n",
    "from tqdm.autonotebook import tqdm\n",
    "\n",
    "from IPython import get_ipython\n",
    "ipython = get_ipython()\n",
    "\n",
    "# Options for pandas\n",
    "pd.options.display.max_columns = 50\n",
    "pd.options.display.max_rows = 30\n",
    "\n",
    "# autoreload extension\n",
    "if 'autoreload' not in ipython.extension_manager.loaded:\n",
    "    %load_ext autoreload\n",
    "\n",
    "%autoreload 2\n",
    "\n",
    "# Visualizations\n",
    "#import plotly.plotly as py\n",
    "#import plotly.graph_objs as go\n",
    "#from plotly.offline import iplot, init_notebook_mode\n",
    "#init_notebook_mode(connected=True)\n",
    "\n",
    "#import cufflinks as cf\n",
    "#cf.go_offline(connected=True)\n",
    "#cf.set_config_file(theme='white')\n"
   ]
  },
  {
   "cell_type": "markdown",
   "id": "e81a2cd1",
   "metadata": {},
   "source": [
    "# Analysis/Modeling\n",
    "Do work here"
   ]
  },
  {
   "cell_type": "markdown",
   "id": "0e465149",
   "metadata": {},
   "source": [
    "# Results\n",
    "Show graphs and stats here"
   ]
  },
  {
   "cell_type": "markdown",
   "id": "c7dab882",
   "metadata": {},
   "source": [
    "# Conclusions and Next Steps\n",
    "Summarize findings here"
   ]
  },
  {
   "cell_type": "code",
   "execution_count": 2,
   "id": "b29c7fa8",
   "metadata": {},
   "outputs": [
    {
     "name": "stdout",
     "output_type": "stream",
     "text": [
      "forward 1\r\n",
      "down 5\r\n",
      "down 6\r\n",
      "down 2\r\n",
      "forward 8\r\n",
      "up 3\r\n",
      "up 2\r\n",
      "down 2\r\n",
      "forward 9\r\n",
      "forward 7\r\n"
     ]
    }
   ],
   "source": [
    "!head input.txt"
   ]
  },
  {
   "cell_type": "code",
   "execution_count": 3,
   "id": "aea31455",
   "metadata": {},
   "outputs": [],
   "source": [
    "direction = dict(forward=1,\n",
    "                down=1j,\n",
    "                up=-1j,\n",
    "                )\n",
    "traj = []\n",
    "with open('input.txt','r') as fh:\n",
    "    lines = fh.readlines()\n",
    "    for line in lines:\n",
    "        parts = line.split(' ')\n",
    "        move = direction[parts[0]]*int(parts[1])\n",
    "        traj.append(move)\n",
    "traj = np.array(traj)"
   ]
  },
  {
   "cell_type": "code",
   "execution_count": 6,
   "id": "66200511",
   "metadata": {
    "scrolled": true
   },
   "outputs": [
    {
     "data": {
      "text/plain": [
       "1947824.0"
      ]
     },
     "execution_count": 6,
     "metadata": {},
     "output_type": "execute_result"
    }
   ],
   "source": [
    "traj.sum().real*traj.sum().imag"
   ]
  },
  {
   "cell_type": "code",
   "execution_count": 8,
   "id": "277c0b95",
   "metadata": {},
   "outputs": [],
   "source": [
    "import pandas as pd"
   ]
  },
  {
   "cell_type": "code",
   "execution_count": 9,
   "id": "957aff52",
   "metadata": {},
   "outputs": [],
   "source": [
    "traj = []\n",
    "with open('input.txt','r') as fh:\n",
    "    lines = fh.readlines()\n",
    "    for line in lines:\n",
    "        parts = line.split(' ')\n",
    "        move = dict(forward=0,down=0,up=0)\n",
    "        move[parts[0]] = int(parts[1])\n",
    "        traj.append(move)\n",
    "df = pd.DataFrame(traj)"
   ]
  },
  {
   "cell_type": "code",
   "execution_count": 24,
   "id": "fd126aec",
   "metadata": {},
   "outputs": [
    {
     "data": {
      "text/html": [
       "<div>\n",
       "<style scoped>\n",
       "    .dataframe tbody tr th:only-of-type {\n",
       "        vertical-align: middle;\n",
       "    }\n",
       "\n",
       "    .dataframe tbody tr th {\n",
       "        vertical-align: top;\n",
       "    }\n",
       "\n",
       "    .dataframe thead th {\n",
       "        text-align: right;\n",
       "    }\n",
       "</style>\n",
       "<table border=\"1\" class=\"dataframe\">\n",
       "  <thead>\n",
       "    <tr style=\"text-align: right;\">\n",
       "      <th></th>\n",
       "      <th>forward</th>\n",
       "      <th>down</th>\n",
       "      <th>up</th>\n",
       "    </tr>\n",
       "  </thead>\n",
       "  <tbody>\n",
       "    <tr>\n",
       "      <th>0</th>\n",
       "      <td>1</td>\n",
       "      <td>0</td>\n",
       "      <td>0</td>\n",
       "    </tr>\n",
       "    <tr>\n",
       "      <th>1</th>\n",
       "      <td>0</td>\n",
       "      <td>5</td>\n",
       "      <td>0</td>\n",
       "    </tr>\n",
       "    <tr>\n",
       "      <th>2</th>\n",
       "      <td>0</td>\n",
       "      <td>6</td>\n",
       "      <td>0</td>\n",
       "    </tr>\n",
       "    <tr>\n",
       "      <th>3</th>\n",
       "      <td>0</td>\n",
       "      <td>2</td>\n",
       "      <td>0</td>\n",
       "    </tr>\n",
       "    <tr>\n",
       "      <th>4</th>\n",
       "      <td>8</td>\n",
       "      <td>0</td>\n",
       "      <td>0</td>\n",
       "    </tr>\n",
       "    <tr>\n",
       "      <th>...</th>\n",
       "      <td>...</td>\n",
       "      <td>...</td>\n",
       "      <td>...</td>\n",
       "    </tr>\n",
       "    <tr>\n",
       "      <th>995</th>\n",
       "      <td>0</td>\n",
       "      <td>8</td>\n",
       "      <td>0</td>\n",
       "    </tr>\n",
       "    <tr>\n",
       "      <th>996</th>\n",
       "      <td>0</td>\n",
       "      <td>0</td>\n",
       "      <td>7</td>\n",
       "    </tr>\n",
       "    <tr>\n",
       "      <th>997</th>\n",
       "      <td>0</td>\n",
       "      <td>2</td>\n",
       "      <td>0</td>\n",
       "    </tr>\n",
       "    <tr>\n",
       "      <th>998</th>\n",
       "      <td>0</td>\n",
       "      <td>6</td>\n",
       "      <td>0</td>\n",
       "    </tr>\n",
       "    <tr>\n",
       "      <th>999</th>\n",
       "      <td>5</td>\n",
       "      <td>0</td>\n",
       "      <td>0</td>\n",
       "    </tr>\n",
       "  </tbody>\n",
       "</table>\n",
       "<p>1000 rows × 3 columns</p>\n",
       "</div>"
      ],
      "text/plain": [
       "     forward  down  up\n",
       "0          1     0   0\n",
       "1          0     5   0\n",
       "2          0     6   0\n",
       "3          0     2   0\n",
       "4          8     0   0\n",
       "..       ...   ...  ..\n",
       "995        0     8   0\n",
       "996        0     0   7\n",
       "997        0     2   0\n",
       "998        0     6   0\n",
       "999        5     0   0\n",
       "\n",
       "[1000 rows x 3 columns]"
      ]
     },
     "execution_count": 24,
     "metadata": {},
     "output_type": "execute_result"
    }
   ],
   "source": [
    "df"
   ]
  },
  {
   "cell_type": "code",
   "execution_count": 14,
   "id": "ccd1b593",
   "metadata": {},
   "outputs": [],
   "source": [
    "aim_change=df.down-df.up"
   ]
  },
  {
   "cell_type": "code",
   "execution_count": 25,
   "id": "8070612c",
   "metadata": {},
   "outputs": [],
   "source": [
    "aim = aim_change.cumsum()\n"
   ]
  },
  {
   "cell_type": "code",
   "execution_count": 20,
   "id": "c0f43451",
   "metadata": {},
   "outputs": [
    {
     "data": {
      "text/plain": [
       "[<matplotlib.lines.Line2D at 0x7f0b4f98c730>]"
      ]
     },
     "execution_count": 20,
     "metadata": {},
     "output_type": "execute_result"
    },
    {
     "data": {
      "image/png": "[encoded data removed]",
      "text/plain": [
       "<Figure size 432x288 with 1 Axes>"
      ]
     },
     "metadata": {
      "needs_background": "light"
     },
     "output_type": "display_data"
    }
   ],
   "source": [
    "plt.plot(aim_change,'.')"
   ]
  },
  {
   "cell_type": "code",
   "execution_count": 26,
   "id": "d239cc1d",
   "metadata": {},
   "outputs": [
    {
     "data": {
      "text/plain": [
       "[<matplotlib.lines.Line2D at 0x7f0b4dc360a0>]"
      ]
     },
     "execution_count": 26,
     "metadata": {},
     "output_type": "execute_result"
    },
    {
     "data": {
      "image/png": "[encoded data removed]",
      "text/plain": [
       "<Figure size 432x288 with 1 Axes>"
      ]
     },
     "metadata": {
      "needs_background": "light"
     },
     "output_type": "display_data"
    }
   ],
   "source": [
    "plt.plot(aim)"
   ]
  },
  {
   "cell_type": "code",
   "execution_count": 27,
   "id": "1ea40777",
   "metadata": {},
   "outputs": [
    {
     "data": {
      "text/plain": [
       "[<matplotlib.lines.Line2D at 0x7f0b4dfdb910>]"
      ]
     },
     "execution_count": 27,
     "metadata": {},
     "output_type": "execute_result"
    },
    {
     "data": {
      "image/png": "[encoded data removed]",
      "text/plain": [
       "<Figure size 432x288 with 1 Axes>"
      ]
     },
     "metadata": {
      "needs_background": "light"
     },
     "output_type": "display_data"
    }
   ],
   "source": [
    "plt.plot(aim*df.forward)"
   ]
  },
  {
   "cell_type": "code",
   "execution_count": 30,
   "id": "4eadc09a",
   "metadata": {},
   "outputs": [
    {
     "data": {
      "text/plain": [
       "0           0\n",
       "1           0\n",
       "2           0\n",
       "3           0\n",
       "4         104\n",
       "        ...  \n",
       "995    992473\n",
       "996    992473\n",
       "997    992473\n",
       "998    992473\n",
       "999    997833\n",
       "Length: 1000, dtype: int64"
      ]
     },
     "execution_count": 30,
     "metadata": {},
     "output_type": "execute_result"
    }
   ],
   "source": [
    "(aim*df.forward).cumsum()"
   ]
  },
  {
   "cell_type": "code",
   "execution_count": 33,
   "id": "287699da",
   "metadata": {},
   "outputs": [],
   "source": [
    "cs = (aim*df.forward).cumsum()"
   ]
  },
  {
   "cell_type": "code",
   "execution_count": 35,
   "id": "b9064839",
   "metadata": {},
   "outputs": [
    {
     "data": {
      "text/plain": [
       "997833"
      ]
     },
     "execution_count": 35,
     "metadata": {},
     "output_type": "execute_result"
    }
   ],
   "source": [
    "cs.iloc[-1]"
   ]
  },
  {
   "cell_type": "code",
   "execution_count": 31,
   "id": "eee0b7a1",
   "metadata": {},
   "outputs": [
    {
     "data": {
      "text/plain": [
       "1813062561"
      ]
     },
     "execution_count": 31,
     "metadata": {},
     "output_type": "execute_result"
    }
   ],
   "source": [
    "997833*(df.forward.sum())"
   ]
  },
  {
   "cell_type": "code",
   "execution_count": null,
   "id": "562d476e",
   "metadata": {},
   "outputs": [],
   "source": []
  }
 ],
 "metadata": {
  "kernelspec": {
   "display_name": "Python 3 (ipykernel)",
   "language": "python",
   "name": "python3"
  },
  "language_info": {
   "codemirror_mode": {
    "name": "ipython",
    "version": 3
   },
   "file_extension": ".py",
   "mimetype": "text/x-python",
   "name": "python",
   "nbconvert_exporter": "python",
   "pygments_lexer": "ipython3",
   "version": "3.9.7"
  }
 },
 "nbformat": 4,
 "nbformat_minor": 5
}
