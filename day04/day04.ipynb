{
 "cells": [
  {
   "cell_type": "markdown",
   "id": "e6b4e506",
   "metadata": {},
   "source": [
    "# Introduction\n",
    "State notebook purpose here"
   ]
  },
  {
   "cell_type": "markdown",
   "id": "f599cc56",
   "metadata": {},
   "source": [
    "### Imports\n",
    "Import libraries and write settings here."
   ]
  },
  {
   "cell_type": "code",
   "execution_count": 1,
   "id": "73e9f214",
   "metadata": {},
   "outputs": [
    {
     "name": "stderr",
     "output_type": "stream",
     "text": [
      "/tmp/ipykernel_93041/2426357776.py:4: TqdmExperimentalWarning: Using `tqdm.autonotebook.tqdm` in notebook mode. Use `tqdm.tqdm` instead to force console mode (e.g. in jupyter console)\n",
      "  from tqdm.autonotebook import tqdm\n"
     ]
    }
   ],
   "source": [
    "# Data manipulation\n",
    "import pandas as pd\n",
    "import numpy as np\n",
    "from tqdm.autonotebook import tqdm\n",
    "\n",
    "from IPython import get_ipython\n",
    "ipython = get_ipython()\n",
    "\n",
    "# Options for pandas\n",
    "pd.options.display.max_columns = 50\n",
    "pd.options.display.max_rows = 30\n",
    "\n",
    "# autoreload extension\n",
    "if 'autoreload' not in ipython.extension_manager.loaded:\n",
    "    %load_ext autoreload\n",
    "\n",
    "%autoreload 2\n",
    "\n",
    "# Visualizations\n",
    "#import plotly.plotly as py\n",
    "#import plotly.graph_objs as go\n",
    "#from plotly.offline import iplot, init_notebook_mode\n",
    "#init_notebook_mode(connected=True)\n",
    "\n",
    "#import cufflinks as cf\n",
    "#cf.go_offline(connected=True)\n",
    "#cf.set_config_file(theme='white')\n"
   ]
  },
  {
   "cell_type": "markdown",
   "id": "352621d2",
   "metadata": {},
   "source": [
    "# Analysis/Modeling\n",
    "Do work here"
   ]
  },
  {
   "cell_type": "markdown",
   "id": "a3e6de6b",
   "metadata": {},
   "source": [
    "# Results\n",
    "Show graphs and stats here"
   ]
  },
  {
   "cell_type": "markdown",
   "id": "7de3c0ec",
   "metadata": {},
   "source": [
    "# Conclusions and Next Steps\n",
    "Summarize findings here"
   ]
  },
  {
   "cell_type": "code",
   "execution_count": 6,
   "id": "56980feb",
   "metadata": {},
   "outputs": [
    {
     "name": "stdout",
     "output_type": "stream",
     "text": [
      "73,42,95,35,13,40,99,92,33,30,83,1,36,93,59,90,55,25,77,44,37,62,41,47,80,23,51,61,21,20,76,8,71,34,58,5,52,22,39,57,17,2,26,0,10,72,19,3,64,65,82,46,31,63,91,24,18,12,9,79,50,98,69,4,78,54,43,68,87,7,67,48,28,89,94,53,85,81,49,88,6,96,29,56,97,66,38,16,32,70,74,27,84,86,45,75,60,15,14,11\r\n",
      "\r\n",
      "91  5 64 81 34\r\n",
      "15 99 31 63 65\r\n",
      "45 39 54 93 83\r\n",
      "51 14 23 86 32\r\n",
      "19 22 16 13  3\r\n",
      "\r\n",
      "20 83 38 85 70\r\n",
      "69 12 14 26 84\r\n"
     ]
    }
   ],
   "source": [
    "!head input.txt"
   ]
  },
  {
   "cell_type": "code",
   "execution_count": null,
   "id": "d8c983b5",
   "metadata": {},
   "outputs": [],
   "source": []
  },
  {
   "cell_type": "code",
   "execution_count": 10,
   "id": "8c0b4aa8",
   "metadata": {},
   "outputs": [],
   "source": [
    "draws = np.loadtxt('input.txt',max_rows=1,delimiter=',')\n",
    "boards = np.genfromtxt('input.txt',skip_header=1,)"
   ]
  },
  {
   "cell_type": "code",
   "execution_count": 11,
   "id": "26cdaa21",
   "metadata": {},
   "outputs": [
    {
     "data": {
      "text/plain": [
       "(500, 5)"
      ]
     },
     "execution_count": 11,
     "metadata": {},
     "output_type": "execute_result"
    }
   ],
   "source": [
    "boards.shape"
   ]
  },
  {
   "cell_type": "code",
   "execution_count": 4,
   "id": "0530c058",
   "metadata": {},
   "outputs": [
    {
     "data": {
      "text/plain": [
       "(100,)"
      ]
     },
     "execution_count": 4,
     "metadata": {},
     "output_type": "execute_result"
    }
   ],
   "source": [
    "draws.shape"
   ]
  },
  {
   "cell_type": "code",
   "execution_count": 5,
   "id": "5dd36fcb",
   "metadata": {},
   "outputs": [
    {
     "data": {
      "text/plain": [
       "array([73., 42., 95., 35., 13., 40., 99., 92., 33., 30., 83.,  1., 36.,\n",
       "       93., 59., 90., 55., 25., 77., 44., 37., 62., 41., 47., 80., 23.,\n",
       "       51., 61., 21., 20., 76.,  8., 71., 34., 58.,  5., 52., 22., 39.,\n",
       "       57., 17.,  2., 26.,  0., 10., 72., 19.,  3., 64., 65., 82., 46.,\n",
       "       31., 63., 91., 24., 18., 12.,  9., 79., 50., 98., 69.,  4., 78.,\n",
       "       54., 43., 68., 87.,  7., 67., 48., 28., 89., 94., 53., 85., 81.,\n",
       "       49., 88.,  6., 96., 29., 56., 97., 66., 38., 16., 32., 70., 74.,\n",
       "       27., 84., 86., 45., 75., 60., 15., 14., 11.])"
      ]
     },
     "execution_count": 5,
     "metadata": {},
     "output_type": "execute_result"
    }
   ],
   "source": [
    "draws"
   ]
  },
  {
   "cell_type": "code",
   "execution_count": 12,
   "id": "7d0f24f8",
   "metadata": {},
   "outputs": [],
   "source": [
    "boards = boards.reshape((-1,5,5))"
   ]
  },
  {
   "cell_type": "code",
   "execution_count": 13,
   "id": "78497e96",
   "metadata": {},
   "outputs": [
    {
     "data": {
      "text/plain": [
       "array([[91.,  5., 64., 81., 34.],\n",
       "       [15., 99., 31., 63., 65.],\n",
       "       [45., 39., 54., 93., 83.],\n",
       "       [51., 14., 23., 86., 32.],\n",
       "       [19., 22., 16., 13.,  3.]])"
      ]
     },
     "execution_count": 13,
     "metadata": {},
     "output_type": "execute_result"
    }
   ],
   "source": [
    "boards[0]"
   ]
  },
  {
   "cell_type": "code",
   "execution_count": 23,
   "id": "f9889633",
   "metadata": {},
   "outputs": [],
   "source": []
  },
  {
   "cell_type": "code",
   "execution_count": 29,
   "id": "5eeb0380",
   "metadata": {},
   "outputs": [
    {
     "name": "stdout",
     "output_type": "stream",
     "text": [
      "[73. 42. 95. 35. 13. 40. 99. 92. 33. 30. 83.  1. 36. 93. 59. 90. 55. 25.\n",
      " 77. 44. 37. 62. 41. 47. 80. 23. 51. 61. 21. 20. 76.  8. 71.] [[64. 65.  6. 86. 53.]\n",
      " [10. 56.  2. 88. 73.]\n",
      " [11. 62. 37. 84.  1.]\n",
      " [71. 42. 76. 51. 77.]\n",
      " [41. 83. 19. 14.  4.]] 39902.0\n"
     ]
    }
   ],
   "source": [
    "hits = np.zeros(boards.shape,dtype=np.bool_)\n",
    "for i_draw,draw in enumerate(draws):\n",
    "    hits = hits | (boards==draw)\n",
    "    row_wins = np.any(hits.sum(1)==boards.shape[1],axis=1)\n",
    "    col_wins = np.any(hits.sum(2)==boards.shape[2],axis=1)\n",
    "    winning_board = np.flatnonzero(row_wins | col_wins)\n",
    "    if len(winning_board):\n",
    "        winner = boards[winning_board[0]]\n",
    "        board_hits = hits[winning_board[0]]\n",
    "        unmarked = winner[~board_hits]\n",
    "        result = draw*(unmarked.sum())\n",
    "        print(draws[:i_draw+1],winner,result)\n",
    "        break\n",
    "        "
   ]
  },
  {
   "cell_type": "code",
   "execution_count": 32,
   "id": "64534095",
   "metadata": {},
   "outputs": [
    {
     "name": "stdout",
     "output_type": "stream",
     "text": [
      "45\n",
      "[73. 42. 95. 35. 13. 40. 99. 92. 33. 30. 83.  1. 36. 93. 59. 90. 55. 25.\n",
      " 77. 44. 37. 62. 41. 47. 80. 23. 51. 61. 21. 20. 76.  8. 71. 34. 58.  5.\n",
      " 52. 22. 39. 57. 17.  2. 26.  0. 10. 72. 19.  3. 64. 65. 82. 46. 31. 63.\n",
      " 91. 24. 18. 12.  9. 79. 50. 98. 69.  4. 78. 54. 43. 68. 87.  7. 67. 48.\n",
      " 28. 89. 94. 53. 85. 81. 49. 88.  6. 96. 29. 56.] [[78. 56. 29. 50. 32.]\n",
      " [79. 92. 38. 49. 45.]\n",
      " [70. 80. 76. 86. 64.]\n",
      " [53. 22. 20. 66. 60.]\n",
      " [77. 25. 84. 93. 88.]] 26936.0\n"
     ]
    }
   ],
   "source": [
    "hits = np.zeros(boards.shape,dtype=np.bool_)\n",
    "for i_draw,draw in enumerate(draws):\n",
    "    hits = hits | (boards==draw)\n",
    "    row_wins = np.any(hits.sum(1)==boards.shape[1],axis=1)\n",
    "    col_wins = np.any(hits.sum(2)==boards.shape[2],axis=1)\n",
    "    winning_boards = np.flatnonzero(row_wins | col_wins)\n",
    "    if len(winning_boards)==boards.shape[0]:\n",
    "        last_winner_index = list(set(winning_boards)-set(last_winners))[0]\n",
    "        print(last_winner_index)\n",
    "        winner = boards[last_winner_index]\n",
    "        board_hits = hits[last_winner_index]\n",
    "        unmarked = winner[~board_hits]\n",
    "        result = draw*(unmarked.sum())\n",
    "        print(draws[:i_draw+1],winner,result)\n",
    "        break\n",
    "    last_winners = winning_boards\n",
    "        "
   ]
  },
  {
   "cell_type": "code",
   "execution_count": 26,
   "id": "59271a77",
   "metadata": {},
   "outputs": [
    {
     "data": {
      "text/plain": [
       "array([[False, False, False, False, False],\n",
       "       [False, False, False, False,  True],\n",
       "       [False,  True,  True, False,  True],\n",
       "       [ True,  True,  True,  True,  True],\n",
       "       [ True,  True, False, False, False]])"
      ]
     },
     "execution_count": 26,
     "metadata": {},
     "output_type": "execute_result"
    }
   ],
   "source": [
    "hits[winning_board[0]]"
   ]
  },
  {
   "cell_type": "code",
   "execution_count": 17,
   "id": "ebdb7fd5",
   "metadata": {},
   "outputs": [
    {
     "data": {
      "text/plain": [
       "array([ 0,  1,  2,  3,  4,  5,  6,  7,  8,  9, 10, 11, 12, 13, 14, 15, 16,\n",
       "       17, 18, 19, 20, 21, 22, 23, 24, 25, 26, 27, 28, 29, 30, 31, 32, 33,\n",
       "       34, 35, 36, 37, 38, 39, 40, 41, 42, 43, 44, 45, 46, 47, 48, 49, 50,\n",
       "       51, 52, 53, 54, 55, 56, 57, 58, 59, 60, 61, 62, 63, 64, 65, 66, 67,\n",
       "       68, 69, 70, 71, 72, 73, 74, 75, 76, 77, 78, 79, 80, 81, 82, 83, 84,\n",
       "       85, 86, 87, 88, 89, 90, 91, 92, 93, 94, 95, 96, 97, 98, 99])"
      ]
     },
     "execution_count": 17,
     "metadata": {},
     "output_type": "execute_result"
    }
   ],
   "source": [
    "winning_board"
   ]
  },
  {
   "cell_type": "code",
   "execution_count": 24,
   "id": "9ad5024a",
   "metadata": {},
   "outputs": [
    {
     "data": {
      "text/plain": [
       "array([[[False, False, False, False, False],\n",
       "        [False, False, False, False, False],\n",
       "        [False, False, False, False, False],\n",
       "        [False, False, False, False, False],\n",
       "        [False, False, False, False, False]],\n",
       "\n",
       "       [[False, False, False, False, False],\n",
       "        [False, False, False, False, False],\n",
       "        [False, False, False, False, False],\n",
       "        [False, False, False, False, False],\n",
       "        [False, False, False, False, False]],\n",
       "\n",
       "       [[False, False, False, False, False],\n",
       "        [False, False, False, False, False],\n",
       "        [False, False, False, False, False],\n",
       "        [False, False, False, False, False],\n",
       "        [False, False, False, False, False]],\n",
       "\n",
       "       ...,\n",
       "\n",
       "       [[False, False, False, False, False],\n",
       "        [False, False, False, False, False],\n",
       "        [False, False, False, False, False],\n",
       "        [False, False, False, False, False],\n",
       "        [False, False, False, False, False]],\n",
       "\n",
       "       [[False, False, False, False, False],\n",
       "        [False, False, False, False, False],\n",
       "        [False, False, False, False, False],\n",
       "        [False, False, False, False, False],\n",
       "        [False, False, False, False, False]],\n",
       "\n",
       "       [[False, False, False, False, False],\n",
       "        [False, False, False, False, False],\n",
       "        [False, False, False, False, False],\n",
       "        [False, False, False, False, False],\n",
       "        [False, False, False, False, False]]])"
      ]
     },
     "execution_count": 24,
     "metadata": {},
     "output_type": "execute_result"
    }
   ],
   "source": [
    "hits | "
   ]
  },
  {
   "cell_type": "code",
   "execution_count": 21,
   "id": "7d4e8978",
   "metadata": {},
   "outputs": [
    {
     "data": {
      "text/plain": [
       "array([[[False, False, False, False, False],\n",
       "        [False, False, False, False, False],\n",
       "        [False, False, False, False, False],\n",
       "        [False, False, False, False, False],\n",
       "        [False, False, False, False, False]],\n",
       "\n",
       "       [[False, False, False, False, False],\n",
       "        [False, False, False, False, False],\n",
       "        [False, False, False, False, False],\n",
       "        [False, False, False, False, False],\n",
       "        [False, False, False, False, False]],\n",
       "\n",
       "       [[False, False, False, False, False],\n",
       "        [False, False, False, False, False],\n",
       "        [False, False, False, False, False],\n",
       "        [False, False, False, False, False],\n",
       "        [False, False, False, False, False]],\n",
       "\n",
       "       ...,\n",
       "\n",
       "       [[ True, False, False, False, False],\n",
       "        [False, False, False, False, False],\n",
       "        [False, False, False, False, False],\n",
       "        [False, False, False, False, False],\n",
       "        [False, False, False, False, False]],\n",
       "\n",
       "       [[False, False, False, False, False],\n",
       "        [False, False, False, False, False],\n",
       "        [False, False, False, False, False],\n",
       "        [False, False, False, False, False],\n",
       "        [False, False, False, False, False]],\n",
       "\n",
       "       [[False, False,  True, False, False],\n",
       "        [False, False, False, False, False],\n",
       "        [False, False, False, False, False],\n",
       "        [False, False, False, False, False],\n",
       "        [False, False, False, False, False]]])"
      ]
     },
     "execution_count": 21,
     "metadata": {},
     "output_type": "execute_result"
    }
   ],
   "source": [
    "boards==draw"
   ]
  },
  {
   "cell_type": "code",
   "execution_count": null,
   "id": "5ba5e2a7",
   "metadata": {},
   "outputs": [],
   "source": []
  }
 ],
 "metadata": {
  "kernelspec": {
   "display_name": "Python 3 (ipykernel)",
   "language": "python",
   "name": "python3"
  },
  "language_info": {
   "codemirror_mode": {
    "name": "ipython",
    "version": 3
   },
   "file_extension": ".py",
   "mimetype": "text/x-python",
   "name": "python",
   "nbconvert_exporter": "python",
   "pygments_lexer": "ipython3",
   "version": "3.9.7"
  }
 },
 "nbformat": 4,
 "nbformat_minor": 5
}
