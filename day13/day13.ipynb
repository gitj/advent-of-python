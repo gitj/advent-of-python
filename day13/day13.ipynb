{
 "cells": [
  {
   "cell_type": "markdown",
   "id": "64a28194",
   "metadata": {},
   "source": [
    "# Introduction\n",
    "State notebook purpose here"
   ]
  },
  {
   "cell_type": "markdown",
   "id": "792d0abe",
   "metadata": {},
   "source": [
    "### Imports\n",
    "Import libraries and write settings here."
   ]
  },
  {
   "cell_type": "code",
   "execution_count": null,
   "id": "98b697ab",
   "metadata": {},
   "outputs": [],
   "source": [
    "# Data manipulation\n",
    "import pandas as pd\n",
    "import numpy as np\n",
    "from tqdm.autonotebook import tqdm\n",
    "\n",
    "from IPython import get_ipython\n",
    "ipython = get_ipython()\n",
    "\n",
    "# Options for pandas\n",
    "pd.options.display.max_columns = 50\n",
    "pd.options.display.max_rows = 30\n",
    "\n",
    "# autoreload extension\n",
    "if 'autoreload' not in ipython.extension_manager.loaded:\n",
    "    %load_ext autoreload\n",
    "\n",
    "%autoreload 2\n",
    "\n",
    "# Visualizations\n",
    "#import plotly.plotly as py\n",
    "#import plotly.graph_objs as go\n",
    "#from plotly.offline import iplot, init_notebook_mode\n",
    "#init_notebook_mode(connected=True)\n",
    "\n",
    "#import cufflinks as cf\n",
    "#cf.go_offline(connected=True)\n",
    "#cf.set_config_file(theme='white')\n"
   ]
  },
  {
   "cell_type": "markdown",
   "id": "be42ec74",
   "metadata": {},
   "source": [
    "# Analysis/Modeling\n",
    "Do work here"
   ]
  },
  {
   "cell_type": "markdown",
   "id": "3496440c",
   "metadata": {},
   "source": [
    "# Results\n",
    "Show graphs and stats here"
   ]
  },
  {
   "cell_type": "markdown",
   "id": "3fb8fba5",
   "metadata": {},
   "source": [
    "# Conclusions and Next Steps\n",
    "Summarize findings here"
   ]
  },
  {
   "cell_type": "code",
   "execution_count": null,
   "id": "6813bc3c",
   "metadata": {},
   "outputs": [],
   "source": [
    "!head input.txt"
   ]
  },
  {
   "cell_type": "code",
   "execution_count": null,
   "id": "f042c3f5",
   "metadata": {},
   "outputs": [],
   "source": [
    "coords = []\n",
    "folds = []\n",
    "with open('input.txt','r') as fh:\n",
    "    for line in fh.readlines():\n",
    "        line.strip()\n",
    "        if len(line)==1:\n",
    "            continue\n",
    "        parts = line.split(',')\n",
    "        if len(parts)==2:\n",
    "            coords.append([int(x) for x in parts])\n",
    "        else:\n",
    "            axis,loc = line.split(' ')[-1].split('=')\n",
    "            loc = int(loc)\n",
    "            if axis =='x':\n",
    "                folds.append([loc,0])\n",
    "            else:\n",
    "                folds.append([0,loc])\n",
    "coords = np.array(coords,dtype='int')\n",
    "folds = np.array(folds,dtype=int)"
   ]
  },
  {
   "cell_type": "code",
   "execution_count": null,
   "id": "5ff346b5",
   "metadata": {},
   "outputs": [],
   "source": [
    "coords.shape"
   ]
  },
  {
   "cell_type": "code",
   "execution_count": null,
   "id": "eb55ce02",
   "metadata": {},
   "outputs": [],
   "source": [
    "coords.max()"
   ]
  },
  {
   "cell_type": "code",
   "execution_count": null,
   "id": "86ad1723",
   "metadata": {},
   "outputs": [],
   "source": [
    "folds.max()"
   ]
  },
  {
   "cell_type": "code",
   "execution_count": null,
   "id": "b72b8d77",
   "metadata": {},
   "outputs": [],
   "source": [
    "coords[:,0].max()"
   ]
  },
  {
   "cell_type": "code",
   "execution_count": null,
   "id": "a654bbcd",
   "metadata": {},
   "outputs": [],
   "source": [
    "paper = np.zeros((coords[:,0].max()+1,coords[:,1].max()+1),dtype='uint8')\n",
    "for x,y in coords:\n",
    "    paper[x,y] = 1"
   ]
  },
  {
   "cell_type": "code",
   "execution_count": null,
   "id": "136acaa0",
   "metadata": {},
   "outputs": [],
   "source": [
    "%matplotlib inline\n",
    "from matplotlib import pyplot as plt"
   ]
  },
  {
   "cell_type": "code",
   "execution_count": null,
   "id": "e2dfd72c",
   "metadata": {},
   "outputs": [],
   "source": [
    "paper.shape"
   ]
  },
  {
   "cell_type": "code",
   "execution_count": null,
   "id": "eee149c8",
   "metadata": {},
   "outputs": [],
   "source": [
    "plt.plot(paper);"
   ]
  },
  {
   "cell_type": "code",
   "execution_count": 35,
   "id": "74baa9d9",
   "metadata": {},
   "outputs": [
    {
     "data": {
      "text/plain": [
       "array([655,   0])"
      ]
     },
     "execution_count": 35,
     "metadata": {},
     "output_type": "execute_result"
    }
   ],
   "source": [
    "folds[0]"
   ]
  },
  {
   "cell_type": "code",
   "execution_count": 39,
   "id": "dd3aeefe",
   "metadata": {},
   "outputs": [
    {
     "data": {
      "text/plain": [
       "(1311, 895)"
      ]
     },
     "execution_count": 39,
     "metadata": {},
     "output_type": "execute_result"
    }
   ],
   "source": [
    "paper.shape"
   ]
  },
  {
   "cell_type": "code",
   "execution_count": 41,
   "id": "e8b0bd7b",
   "metadata": {},
   "outputs": [
    {
     "data": {
      "text/plain": [
       "1"
      ]
     },
     "execution_count": 41,
     "metadata": {},
     "output_type": "execute_result"
    }
   ],
   "source": [
    "paper[:,-1].max()"
   ]
  },
  {
   "cell_type": "code",
   "execution_count": 38,
   "id": "27a90c8a",
   "metadata": {},
   "outputs": [
    {
     "data": {
      "text/plain": [
       "1310"
      ]
     },
     "execution_count": 38,
     "metadata": {},
     "output_type": "execute_result"
    }
   ],
   "source": [
    "coords.max()"
   ]
  },
  {
   "cell_type": "code",
   "execution_count": 42,
   "id": "57dff595",
   "metadata": {},
   "outputs": [],
   "source": [
    "first_fold = paper[:655+1,:]+paper[655:,:][::-1,:]"
   ]
  },
  {
   "cell_type": "code",
   "execution_count": 43,
   "id": "64693b2f",
   "metadata": {},
   "outputs": [
    {
     "data": {
      "text/plain": [
       "(656, 895)"
      ]
     },
     "execution_count": 43,
     "metadata": {},
     "output_type": "execute_result"
    }
   ],
   "source": [
    "first_fold.shape"
   ]
  },
  {
   "cell_type": "code",
   "execution_count": 44,
   "id": "014bfcb1",
   "metadata": {},
   "outputs": [
    {
     "data": {
      "text/plain": [
       "2"
      ]
     },
     "execution_count": 44,
     "metadata": {},
     "output_type": "execute_result"
    }
   ],
   "source": [
    "first_fold.max()"
   ]
  },
  {
   "cell_type": "code",
   "execution_count": 45,
   "id": "9042523a",
   "metadata": {},
   "outputs": [
    {
     "data": {
      "text/plain": [
       "712"
      ]
     },
     "execution_count": 45,
     "metadata": {},
     "output_type": "execute_result"
    }
   ],
   "source": [
    "(first_fold>0).sum()"
   ]
  },
  {
   "cell_type": "code",
   "execution_count": 81,
   "id": "45603b25",
   "metadata": {},
   "outputs": [
    {
     "name": "stdout",
     "output_type": "stream",
     "text": [
      "(1311, 895)\n",
      "(656, 895)\n",
      "(656, 448)\n",
      "(328, 448)\n",
      "(328, 224)\n",
      "(164, 224)\n",
      "(164, 112)\n",
      "(82, 112)\n",
      "(82, 56)\n",
      "(41, 56)\n",
      "(41, 28)\n",
      "(41, 14)\n"
     ]
    }
   ],
   "source": [
    "new = paper\n",
    "for x,y in folds:\n",
    "    print(new.shape)\n",
    "    if x == 0:\n",
    "        rest = new[:,y:]\n",
    "        rest = rest[:,:y+1]\n",
    "        new = new[:,:y+1] + rest[:,::-1]\n",
    "#        num = new.shape[1]-y-1\n",
    "#        new = new[:,y-num:y+1] + new[:,y:][:,::-1]\n",
    "    else:\n",
    "        rest = new[x:,:]\n",
    "        rest = rest[:x+1,:]\n",
    "        new = new[:x+1,:] + rest[::-1,:]\n"
   ]
  },
  {
   "cell_type": "code",
   "execution_count": 78,
   "id": "092b3e99",
   "metadata": {},
   "outputs": [
    {
     "data": {
      "text/plain": [
       "712"
      ]
     },
     "execution_count": 78,
     "metadata": {},
     "output_type": "execute_result"
    }
   ],
   "source": [
    "(new>0).sum()"
   ]
  },
  {
   "cell_type": "code",
   "execution_count": 79,
   "id": "534d49d3",
   "metadata": {},
   "outputs": [
    {
     "data": {
      "text/plain": [
       "(656, 895)"
      ]
     },
     "execution_count": 79,
     "metadata": {},
     "output_type": "execute_result"
    }
   ],
   "source": [
    "new.shape"
   ]
  },
  {
   "cell_type": "code",
   "execution_count": 86,
   "id": "d7cdb801",
   "metadata": {},
   "outputs": [
    {
     "data": {
      "text/plain": [
       "<matplotlib.collections.QuadMesh at 0x7fbcb0dafe80>"
      ]
     },
     "execution_count": 86,
     "metadata": {},
     "output_type": "execute_result"
    },
    {
     "data": {
      "image/png": "[encoded data removed]",
      "text/plain": [
       "<Figure size 432x288 with 1 Axes>"
      ]
     },
     "metadata": {
      "needs_background": "light"
     },
     "output_type": "display_data"
    }
   ],
   "source": [
    "plt.pcolormesh(new[:,::-1].T>0)"
   ]
  },
  {
   "cell_type": "code",
   "execution_count": 87,
   "id": "aa81d541",
   "metadata": {},
   "outputs": [
    {
     "data": {
      "text/plain": [
       "<matplotlib.collections.QuadMesh at 0x7fbcb1c93580>"
      ]
     },
     "execution_count": 87,
     "metadata": {},
     "output_type": "execute_result"
    },
    {
     "data": {
      "image/png": "[encoded data removed]",
      "text/plain": [
       "<Figure size 432x288 with 1 Axes>"
      ]
     },
     "metadata": {
      "needs_background": "light"
     },
     "output_type": "display_data"
    }
   ],
   "source": [
    "plt.pcolormesh(new[:,::-1].T)"
   ]
  },
  {
   "cell_type": "code",
   "execution_count": 64,
   "id": "7dd218ed",
   "metadata": {},
   "outputs": [
    {
     "data": {
      "text/plain": [
       "(656, 448)"
      ]
     },
     "execution_count": 64,
     "metadata": {},
     "output_type": "execute_result"
    }
   ],
   "source": [
    "new.shape"
   ]
  },
  {
   "cell_type": "code",
   "execution_count": 65,
   "id": "54a9227a",
   "metadata": {},
   "outputs": [
    {
     "data": {
      "text/plain": [
       "654"
      ]
     },
     "execution_count": 65,
     "metadata": {},
     "output_type": "execute_result"
    }
   ],
   "source": [
    "327*2"
   ]
  },
  {
   "cell_type": "code",
   "execution_count": 62,
   "id": "49ba9da1",
   "metadata": {},
   "outputs": [
    {
     "data": {
      "text/plain": [
       "328"
      ]
     },
     "execution_count": 62,
     "metadata": {},
     "output_type": "execute_result"
    }
   ],
   "source": [
    "num"
   ]
  },
  {
   "cell_type": "code",
   "execution_count": 63,
   "id": "57be9d27",
   "metadata": {},
   "outputs": [
    {
     "data": {
      "text/plain": [
       "327"
      ]
     },
     "execution_count": 63,
     "metadata": {},
     "output_type": "execute_result"
    }
   ],
   "source": [
    "x"
   ]
  },
  {
   "cell_type": "code",
   "execution_count": 58,
   "id": "80d5034f",
   "metadata": {},
   "outputs": [
    {
     "data": {
      "text/plain": [
       "447"
      ]
     },
     "execution_count": 58,
     "metadata": {},
     "output_type": "execute_result"
    }
   ],
   "source": [
    "num"
   ]
  },
  {
   "cell_type": "code",
   "execution_count": 59,
   "id": "03d92e4a",
   "metadata": {},
   "outputs": [
    {
     "data": {
      "text/plain": [
       "447"
      ]
     },
     "execution_count": 59,
     "metadata": {},
     "output_type": "execute_result"
    }
   ],
   "source": [
    "y"
   ]
  },
  {
   "cell_type": "code",
   "execution_count": 52,
   "id": "da633650",
   "metadata": {},
   "outputs": [
    {
     "data": {
      "text/plain": [
       "(656, 895)"
      ]
     },
     "execution_count": 52,
     "metadata": {},
     "output_type": "execute_result"
    }
   ],
   "source": [
    "new.shape"
   ]
  },
  {
   "cell_type": "code",
   "execution_count": 53,
   "id": "e9fbfe16",
   "metadata": {},
   "outputs": [
    {
     "data": {
      "text/plain": [
       "2"
      ]
     },
     "execution_count": 53,
     "metadata": {},
     "output_type": "execute_result"
    }
   ],
   "source": [
    "895//447"
   ]
  },
  {
   "cell_type": "code",
   "execution_count": 54,
   "id": "7b91b3df",
   "metadata": {},
   "outputs": [
    {
     "data": {
      "text/plain": [
       "894"
      ]
     },
     "execution_count": 54,
     "metadata": {},
     "output_type": "execute_result"
    }
   ],
   "source": [
    "\n",
    "447*2"
   ]
  },
  {
   "cell_type": "code",
   "execution_count": null,
   "id": "5035ab77",
   "metadata": {},
   "outputs": [],
   "source": []
  }
 ],
 "metadata": {
  "kernelspec": {
   "display_name": "Python 3 (ipykernel)",
   "language": "python",
   "name": "python3"
  },
  "language_info": {
   "codemirror_mode": {
    "name": "ipython",
    "version": 3
   },
   "file_extension": ".py",
   "mimetype": "text/x-python",
   "name": "python",
   "nbconvert_exporter": "python",
   "pygments_lexer": "ipython3",
   "version": "3.9.7"
  }
 },
 "nbformat": 4,
 "nbformat_minor": 5
}
