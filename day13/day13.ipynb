{
 "cells": [
  {
   "cell_type": "markdown",
   "id": "39577ba8",
   "metadata": {},
   "source": [
    "# Introduction\n",
    "State notebook purpose here"
   ]
  },
  {
   "cell_type": "markdown",
   "id": "11e41c82",
   "metadata": {},
   "source": [
    "### Imports\n",
    "Import libraries and write settings here."
   ]
  },
  {
   "cell_type": "code",
   "execution_count": null,
   "id": "8b4e8d43",
   "metadata": {},
   "outputs": [],
   "source": [
    "# Data manipulation\n",
    "import pandas as pd\n",
    "import numpy as np\n",
    "from tqdm.autonotebook import tqdm\n",
    "\n",
    "from IPython import get_ipython\n",
    "ipython = get_ipython()\n",
    "\n",
    "# Options for pandas\n",
    "pd.options.display.max_columns = 50\n",
    "pd.options.display.max_rows = 30\n",
    "\n",
    "# autoreload extension\n",
    "if 'autoreload' not in ipython.extension_manager.loaded:\n",
    "    %load_ext autoreload\n",
    "\n",
    "%autoreload 2\n",
    "\n",
    "# Visualizations\n",
    "#import plotly.plotly as py\n",
    "#import plotly.graph_objs as go\n",
    "#from plotly.offline import iplot, init_notebook_mode\n",
    "#init_notebook_mode(connected=True)\n",
    "\n",
    "#import cufflinks as cf\n",
    "#cf.go_offline(connected=True)\n",
    "#cf.set_config_file(theme='white')\n"
   ]
  },
  {
   "cell_type": "markdown",
   "id": "05f8f3ac",
   "metadata": {},
   "source": [
    "# Analysis/Modeling\n",
    "Do work here"
   ]
  },
  {
   "cell_type": "markdown",
   "id": "9b0dd1c0",
   "metadata": {},
   "source": [
    "# Results\n",
    "Show graphs and stats here"
   ]
  },
  {
   "cell_type": "markdown",
   "id": "3b731461",
   "metadata": {},
   "source": [
    "# Conclusions and Next Steps\n",
    "Summarize findings here"
   ]
  },
  {
   "cell_type": "code",
   "execution_count": null,
   "id": "c1039a41",
   "metadata": {},
   "outputs": [],
   "source": [
    "!head input.txt"
   ]
  },
  {
   "cell_type": "code",
   "execution_count": null,
   "id": "bb79c210",
   "metadata": {},
   "outputs": [],
   "source": [
    "coords = []\n",
    "folds = []\n",
    "with open('input.txt','r') as fh:\n",
    "    for line in fh.readlines():\n",
    "        line.strip()\n",
    "        if len(line)==1:\n",
    "            continue\n",
    "        parts = line.split(',')\n",
    "        if len(parts)==2:\n",
    "            coords.append([int(x) for x in parts])\n",
    "        else:\n",
    "            axis,loc = line.split(' ')[-1].split('=')\n",
    "            loc = int(loc)\n",
    "            if axis =='x':\n",
    "                folds.append([loc,0])\n",
    "            else:\n",
    "                folds.append([0,loc])\n",
    "coords = np.array(coords,dtype='int')\n",
    "folds = np.array(folds,dtype=int)"
   ]
  },
  {
   "cell_type": "code",
   "execution_count": null,
   "id": "7b617b5e",
   "metadata": {},
   "outputs": [],
   "source": [
    "coords.shape"
   ]
  },
  {
   "cell_type": "code",
   "execution_count": null,
   "id": "2829b4b8",
   "metadata": {},
   "outputs": [],
   "source": [
    "coords.max()"
   ]
  },
  {
   "cell_type": "code",
   "execution_count": null,
   "id": "d1c26284",
   "metadata": {},
   "outputs": [],
   "source": [
    "folds.max()"
   ]
  },
  {
   "cell_type": "code",
   "execution_count": null,
   "id": "e73df5fb",
   "metadata": {},
   "outputs": [],
   "source": [
    "coords[:,0].max()"
   ]
  },
  {
   "cell_type": "code",
   "execution_count": null,
   "id": "e718c6a0",
   "metadata": {},
   "outputs": [],
   "source": [
    "paper = np.zeros((coords[:,0].max()+1,coords[:,1].max()+1),dtype='uint8')\n",
    "for x,y in coords:\n",
    "    paper[x,y] = 1"
   ]
  },
  {
   "cell_type": "code",
   "execution_count": null,
   "id": "bfdb1740",
   "metadata": {},
   "outputs": [],
   "source": [
    "%matplotlib inline\n",
    "from matplotlib import pyplot as plt"
   ]
  },
  {
   "cell_type": "code",
   "execution_count": null,
   "id": "b959bee8",
   "metadata": {},
   "outputs": [],
   "source": [
    "paper.shape"
   ]
  },
  {
   "cell_type": "code",
   "execution_count": null,
   "id": "4922cb88",
   "metadata": {},
   "outputs": [],
   "source": [
    "plt.plot(paper);"
   ]
  },
  {
   "cell_type": "code",
   "execution_count": 35,
   "id": "ccd77a90",
   "metadata": {},
   "outputs": [
    {
     "data": {
      "text/plain": [
       "array([655,   0])"
      ]
     },
     "execution_count": 35,
     "metadata": {},
     "output_type": "execute_result"
    }
   ],
   "source": [
    "folds[0]"
   ]
  },
  {
   "cell_type": "code",
   "execution_count": 39,
   "id": "5311b4d1",
   "metadata": {},
   "outputs": [
    {
     "data": {
      "text/plain": [
       "(1311, 895)"
      ]
     },
     "execution_count": 39,
     "metadata": {},
     "output_type": "execute_result"
    }
   ],
   "source": [
    "paper.shape"
   ]
  },
  {
   "cell_type": "code",
   "execution_count": 41,
   "id": "d3828303",
   "metadata": {},
   "outputs": [
    {
     "data": {
      "text/plain": [
       "1"
      ]
     },
     "execution_count": 41,
     "metadata": {},
     "output_type": "execute_result"
    }
   ],
   "source": [
    "paper[:,-1].max()"
   ]
  },
  {
   "cell_type": "code",
   "execution_count": 38,
   "id": "912b423c",
   "metadata": {},
   "outputs": [
    {
     "data": {
      "text/plain": [
       "1310"
      ]
     },
     "execution_count": 38,
     "metadata": {},
     "output_type": "execute_result"
    }
   ],
   "source": [
    "coords.max()"
   ]
  },
  {
   "cell_type": "code",
   "execution_count": 42,
   "id": "dbd6e1b3",
   "metadata": {},
   "outputs": [],
   "source": [
    "first_fold = paper[:655+1,:]+paper[655:,:][::-1,:]"
   ]
  },
  {
   "cell_type": "code",
   "execution_count": 43,
   "id": "a0c757c7",
   "metadata": {},
   "outputs": [
    {
     "data": {
      "text/plain": [
       "(656, 895)"
      ]
     },
     "execution_count": 43,
     "metadata": {},
     "output_type": "execute_result"
    }
   ],
   "source": [
    "first_fold.shape"
   ]
  },
  {
   "cell_type": "code",
   "execution_count": 44,
   "id": "955b3b6c",
   "metadata": {},
   "outputs": [
    {
     "data": {
      "text/plain": [
       "2"
      ]
     },
     "execution_count": 44,
     "metadata": {},
     "output_type": "execute_result"
    }
   ],
   "source": [
    "first_fold.max()"
   ]
  },
  {
   "cell_type": "code",
   "execution_count": 45,
   "id": "d6c40823",
   "metadata": {},
   "outputs": [
    {
     "data": {
      "text/plain": [
       "712"
      ]
     },
     "execution_count": 45,
     "metadata": {},
     "output_type": "execute_result"
    }
   ],
   "source": [
    "(first_fold>0).sum()"
   ]
  },
  {
   "cell_type": "code",
   "execution_count": 81,
   "id": "808fa9d9",
   "metadata": {},
   "outputs": [
    {
     "name": "stdout",
     "output_type": "stream",
     "text": [
      "(1311, 895)\n",
      "(656, 895)\n",
      "(656, 448)\n",
      "(328, 448)\n",
      "(328, 224)\n",
      "(164, 224)\n",
      "(164, 112)\n",
      "(82, 112)\n",
      "(82, 56)\n",
      "(41, 56)\n",
      "(41, 28)\n",
      "(41, 14)\n"
     ]
    }
   ],
   "source": [
    "new = paper\n",
    "for x,y in folds:\n",
    "    print(new.shape)\n",
    "    if x == 0:\n",
    "        rest = new[:,y:]\n",
    "        rest = rest[:,:y+1]\n",
    "        new = new[:,:y+1] + rest[:,::-1]\n",
    "#        num = new.shape[1]-y-1\n",
    "#        new = new[:,y-num:y+1] + new[:,y:][:,::-1]\n",
    "    else:\n",
    "        rest = new[x:,:]\n",
    "        rest = rest[:x+1,:]\n",
    "        new = new[:x+1,:] + rest[::-1,:]\n"
   ]
  },
  {
   "cell_type": "code",
   "execution_count": 78,
   "id": "a3897bba",
   "metadata": {},
   "outputs": [
    {
     "data": {
      "text/plain": [
       "712"
      ]
     },
     "execution_count": 78,
     "metadata": {},
     "output_type": "execute_result"
    }
   ],
   "source": [
    "(new>0).sum()"
   ]
  },
  {
   "cell_type": "code",
   "execution_count": 79,
   "id": "cbfb4e21",
   "metadata": {},
   "outputs": [
    {
     "data": {
      "text/plain": [
       "(656, 895)"
      ]
     },
     "execution_count": 79,
     "metadata": {},
     "output_type": "execute_result"
    }
   ],
   "source": [
    "new.shape"
   ]
  },
  {
   "cell_type": "code",
   "execution_count": 86,
   "id": "1d6db50a",
   "metadata": {},
   "outputs": [
    {
     "data": {
      "text/plain": [
       "<matplotlib.collections.QuadMesh at 0x7fbcb0dafe80>"
      ]
     },
     "execution_count": 86,
     "metadata": {},
     "output_type": "execute_result"
    },
    {
     "data": {
      "image/png": "[encoded data removed]",
      "text/plain": [
       "<Figure size 432x288 with 1 Axes>"
      ]
     },
     "metadata": {
      "needs_background": "light"
     },
     "output_type": "display_data"
    }
   ],
   "source": [
    "plt.pcolormesh(new[:,::-1].T>0)"
   ]
  },
  {
   "cell_type": "code",
   "execution_count": 90,
   "id": "25f43b30",
   "metadata": {},
   "outputs": [
    {
     "data": {
      "text/plain": [
       "<matplotlib.image.AxesImage at 0x7fbcb12e9b80>"
      ]
     },
     "execution_count": 90,
     "metadata": {},
     "output_type": "execute_result"
    },
    {
     "data": {
      "image/png": "[encoded data removed]",
      "text/plain": [
       "<Figure size 432x288 with 1 Axes>"
      ]
     },
     "metadata": {
      "needs_background": "light"
     },
     "output_type": "display_data"
    }
   ],
   "source": [
    "plt.imshow(new.T>0)"
   ]
  },
  {
   "cell_type": "code",
   "execution_count": 87,
   "id": "1ed03067",
   "metadata": {},
   "outputs": [
    {
     "data": {
      "text/plain": [
       "<matplotlib.collections.QuadMesh at 0x7fbcb1c93580>"
      ]
     },
     "execution_count": 87,
     "metadata": {},
     "output_type": "execute_result"
    },
    {
     "data": {
      "image/png": "[encoded data removed]",
      "text/plain": [
       "<Figure size 432x288 with 1 Axes>"
      ]
     },
     "metadata": {
      "needs_background": "light"
     },
     "output_type": "display_data"
    }
   ],
   "source": [
    "plt.pcolormesh(new[:,::-1].T)"
   ]
  },
  {
   "cell_type": "code",
   "execution_count": 64,
   "id": "5115bf56",
   "metadata": {},
   "outputs": [
    {
     "data": {
      "text/plain": [
       "(656, 448)"
      ]
     },
     "execution_count": 64,
     "metadata": {},
     "output_type": "execute_result"
    }
   ],
   "source": [
    "new.shape"
   ]
  },
  {
   "cell_type": "code",
   "execution_count": 65,
   "id": "12f84222",
   "metadata": {},
   "outputs": [
    {
     "data": {
      "text/plain": [
       "654"
      ]
     },
     "execution_count": 65,
     "metadata": {},
     "output_type": "execute_result"
    }
   ],
   "source": [
    "327*2"
   ]
  },
  {
   "cell_type": "code",
   "execution_count": 62,
   "id": "b33f6b19",
   "metadata": {},
   "outputs": [
    {
     "data": {
      "text/plain": [
       "328"
      ]
     },
     "execution_count": 62,
     "metadata": {},
     "output_type": "execute_result"
    }
   ],
   "source": [
    "num"
   ]
  },
  {
   "cell_type": "code",
   "execution_count": 63,
   "id": "4e719cef",
   "metadata": {},
   "outputs": [
    {
     "data": {
      "text/plain": [
       "327"
      ]
     },
     "execution_count": 63,
     "metadata": {},
     "output_type": "execute_result"
    }
   ],
   "source": [
    "x"
   ]
  },
  {
   "cell_type": "code",
   "execution_count": 58,
   "id": "b5b37d06",
   "metadata": {},
   "outputs": [
    {
     "data": {
      "text/plain": [
       "447"
      ]
     },
     "execution_count": 58,
     "metadata": {},
     "output_type": "execute_result"
    }
   ],
   "source": [
    "num"
   ]
  },
  {
   "cell_type": "code",
   "execution_count": 59,
   "id": "d6d5e778",
   "metadata": {},
   "outputs": [
    {
     "data": {
      "text/plain": [
       "447"
      ]
     },
     "execution_count": 59,
     "metadata": {},
     "output_type": "execute_result"
    }
   ],
   "source": [
    "y"
   ]
  },
  {
   "cell_type": "code",
   "execution_count": 52,
   "id": "c6fdb77e",
   "metadata": {},
   "outputs": [
    {
     "data": {
      "text/plain": [
       "(656, 895)"
      ]
     },
     "execution_count": 52,
     "metadata": {},
     "output_type": "execute_result"
    }
   ],
   "source": [
    "new.shape"
   ]
  },
  {
   "cell_type": "code",
   "execution_count": 53,
   "id": "b72b5422",
   "metadata": {},
   "outputs": [
    {
     "data": {
      "text/plain": [
       "2"
      ]
     },
     "execution_count": 53,
     "metadata": {},
     "output_type": "execute_result"
    }
   ],
   "source": [
    "895//447"
   ]
  },
  {
   "cell_type": "code",
   "execution_count": 54,
   "id": "da53478a",
   "metadata": {},
   "outputs": [
    {
     "data": {
      "text/plain": [
       "894"
      ]
     },
     "execution_count": 54,
     "metadata": {},
     "output_type": "execute_result"
    }
   ],
   "source": [
    "\n",
    "447*2"
   ]
  },
  {
   "cell_type": "code",
   "execution_count": null,
   "id": "ecac42dd",
   "metadata": {},
   "outputs": [],
   "source": []
  }
 ],
 "metadata": {
  "kernelspec": {
   "display_name": "Python 3 (ipykernel)",
   "language": "python",
   "name": "python3"
  },
  "language_info": {
   "codemirror_mode": {
    "name": "ipython",
    "version": 3
   },
   "file_extension": ".py",
   "mimetype": "text/x-python",
   "name": "python",
   "nbconvert_exporter": "python",
   "pygments_lexer": "ipython3",
   "version": "3.9.7"
  }
 },
 "nbformat": 4,
 "nbformat_minor": 5
}
